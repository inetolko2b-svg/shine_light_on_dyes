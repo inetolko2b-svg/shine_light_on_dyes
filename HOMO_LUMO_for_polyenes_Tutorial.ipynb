{
  "cells": [
    {
      "cell_type": "markdown",
      "metadata": {
        "id": "view-in-github",
        "colab_type": "text"
      },
      "source": [
        "<a href=\"https://colab.research.google.com/github/inetolko2b-svg/shine_light_on_dyes/blob/main/HOMO_LUMO_for_polyenes_Tutorial.ipynb\" target=\"_parent\"><img src=\"https://colab.research.google.com/assets/colab-badge.svg\" alt=\"Open In Colab\"/></a>"
      ]
    },
    {
      "cell_type": "markdown",
      "source": [
        "**Calculating HOMO-LUMO gaps for conjugated systems!**\n",
        "In this section, we’re going to get some numerical estimates for the HOMO–LUMO gaps of conjugated systems. These numbers are mainly useful for comparing different molecules — they won’t be accurate enough to predict the exact colors of the molecules (for that, see …).\n",
        "\n",
        "We’ll take things one step further by using some ready‑made functions that can solve quantum chemical equations for us. These tools will give us numerical values for the energies of the molecular orbitals in a given molecule. We won’t dive into where these equations come from or exactly how they’re solved — instead, we’ll focus on how to use them to get meaningful and useful information about our molecules."
      ],
      "metadata": {
        "id": "AS9xjikau1bg"
      }
    },
    {
      "cell_type": "markdown",
      "metadata": {
        "id": "dmLC8eFqnC7q"
      },
      "source": [
        "Below is the first code snippet that we need to run to begin our calculations. To execute the code, simply click the **Run** button and wait. This step should only take a short time. We start by installing the required packages and importing the necessary definitions. Packages are collections of Python files that contain useful pieces of code. Installing and importing them allows us to use many predefined functions without having to write the code from scratch. Note! the packages are not installed on your local computer. Instead,\n",
        "Google Colab runs on a remote virtual machine. When you install a package using you are installing it on that virtual machine, not on your own computer. The installed packages will only exist for the duration of your session. Once the session ends (e.g., due to inactivity or manual reset), you'll need to reinstall them the next time you open the notebook. Once the code is executed the resutl will appear in the output window."
      ]
    },
    {
      "cell_type": "code",
      "execution_count": null,
      "metadata": {
        "colab": {
          "base_uri": "https://localhost:8080/"
        },
        "collapsed": true,
        "id": "hlXoW9Lxn5Q4",
        "outputId": "80dc5e7c-835a-4d03-d720-17ee2dffe6f0"
      },
      "outputs": [
        {
          "output_type": "stream",
          "name": "stdout",
          "text": [
            "Collecting rdkit\n",
            "  Downloading rdkit-2025.3.5-cp311-cp311-manylinux_2_28_x86_64.whl.metadata (4.1 kB)\n",
            "Requirement already satisfied: numpy in /usr/local/lib/python3.11/dist-packages (from rdkit) (2.0.2)\n",
            "Requirement already satisfied: Pillow in /usr/local/lib/python3.11/dist-packages (from rdkit) (11.3.0)\n",
            "Downloading rdkit-2025.3.5-cp311-cp311-manylinux_2_28_x86_64.whl (36.3 MB)\n",
            "\u001b[2K   \u001b[90m━━━━━━━━━━━━━━━━━━━━━━━━━━━━━━━━━━━━━━━━\u001b[0m \u001b[32m36.3/36.3 MB\u001b[0m \u001b[31m22.5 MB/s\u001b[0m eta \u001b[36m0:00:00\u001b[0m\n",
            "\u001b[?25hInstalling collected packages: rdkit\n",
            "Successfully installed rdkit-2025.3.5\n",
            "Collecting pyscf\n",
            "  Downloading pyscf-2.10.0-py3-none-manylinux_2_17_x86_64.manylinux2014_x86_64.whl.metadata (6.4 kB)\n",
            "Requirement already satisfied: numpy!=1.16,!=1.17,>=1.13 in /usr/local/lib/python3.11/dist-packages (from pyscf) (2.0.2)\n",
            "Requirement already satisfied: scipy>=1.6.0 in /usr/local/lib/python3.11/dist-packages (from pyscf) (1.16.1)\n",
            "Requirement already satisfied: h5py>=2.7 in /usr/local/lib/python3.11/dist-packages (from pyscf) (3.14.0)\n",
            "Requirement already satisfied: setuptools in /usr/local/lib/python3.11/dist-packages (from pyscf) (75.2.0)\n",
            "Downloading pyscf-2.10.0-py3-none-manylinux_2_17_x86_64.manylinux2014_x86_64.whl (51.2 MB)\n",
            "\u001b[2K   \u001b[90m━━━━━━━━━━━━━━━━━━━━━━━━━━━━━━━━━━━━━━━━\u001b[0m \u001b[32m51.2/51.2 MB\u001b[0m \u001b[31m12.2 MB/s\u001b[0m eta \u001b[36m0:00:00\u001b[0m\n",
            "\u001b[?25hInstalling collected packages: pyscf\n",
            "Successfully installed pyscf-2.10.0\n",
            "Collecting geometric\n",
            "  Downloading geometric-1.1.tar.gz (386 kB)\n",
            "\u001b[2K     \u001b[90m━━━━━━━━━━━━━━━━━━━━━━━━━━━━━━━━━━━━━━\u001b[0m \u001b[32m386.0/386.0 kB\u001b[0m \u001b[31m24.2 MB/s\u001b[0m eta \u001b[36m0:00:00\u001b[0m\n",
            "\u001b[?25h  Preparing metadata (setup.py) ... \u001b[?25l\u001b[?25hdone\n",
            "Requirement already satisfied: numpy>=1.11 in /usr/local/lib/python3.11/dist-packages (from geometric) (2.0.2)\n",
            "Requirement already satisfied: networkx in /usr/local/lib/python3.11/dist-packages (from geometric) (3.5)\n",
            "Requirement already satisfied: six in /usr/local/lib/python3.11/dist-packages (from geometric) (1.17.0)\n",
            "Requirement already satisfied: scipy in /usr/local/lib/python3.11/dist-packages (from geometric) (1.16.1)\n",
            "Building wheels for collected packages: geometric\n",
            "  Building wheel for geometric (setup.py) ... \u001b[?25l\u001b[?25hdone\n",
            "  Created wheel for geometric: filename=geometric-1.1-py3-none-any.whl size=402087 sha256=ae52551fdc6371a4842a6764ac92578c2a24b5f92d91c93be6d315c997a232c8\n",
            "  Stored in directory: /root/.cache/pip/wheels/c5/77/0c/96a54539fe0560749fdbe283f92582d09bddb212856407a4cb\n",
            "Successfully built geometric\n",
            "Installing collected packages: geometric\n",
            "Successfully installed geometric-1.1\n"
          ]
        }
      ],
      "source": [
        "! pip install rdkit\n",
        "! pip install pyscf\n",
        "! pip install geometric\n",
        "\n",
        "# import these definitions\n",
        "from rdkit import Chem\n",
        "from rdkit.Chem import Draw\n",
        "from rdkit.Chem import AllChem\n",
        "from rdkit.Chem.Draw import IPythonConsole\n",
        "IPythonConsole.drawOptions.addAtomIndices = True\n",
        "\n",
        "# import the package\n",
        "from pyscf import gto, scf, dft, tddft\n",
        "from pyscf.geomopt.geometric_solver import optimize\n",
        "import scipy.constants as cst\n",
        "import numpy as np\n"
      ]
    },
    {
      "cell_type": "markdown",
      "metadata": {
        "id": "b05xF9IMoVhf"
      },
      "source": [
        "The code provided in this example is for 1,3,5-hexatriene. You will need to slightly adjust it for your specific molecule. We will explain exactly how to do this below.\n",
        "\n",
        "First we need to generate the desired molecule. The easiest way to do this is by using SMILES (Simplified Molecular Input Line Entry System). Every molecule can be represented as a string of symbols containing information about the types of atoms in the molecule and their connectivity. However, SMILES does not contain information about the three‑dimensional geometry of the molecule.\n",
        "\n",
        "For common molecules, it is usually easy to find their SMILES representation online. For example, you can find the SMILES of a desired molecule in PubChem (https://pubchem.ncbi.nlm.nih.gov/) by searching for it by name or drawing its structure.\n",
        "\n",
        "In the code below, we convert the SMILES format into an XYZ file, which contains the 3D coordinates of each atom. An XYZ file is simply a table listing the x, y, and z coordinates for each atom in the molecule. This file will appear under the Files icon on the left in Google Colab and can be downloaded and opened in various specialized molecular visualization programs — for example, in Avogadro, a free, open‑source molecular editor available at https://avogadro.cc/downloads/.\n",
        "\n",
        "The code below reads SMILES and convert use this information to build a random 3D structure, where the angles and bond lengths are random and not optimized, every time you run the cell you will generate a new conformation."
      ]
    },
    {
      "cell_type": "code",
      "execution_count": null,
      "metadata": {
        "id": "u1vuM1KfX65g",
        "colab": {
          "base_uri": "https://localhost:8080/",
          "height": 167
        },
        "outputId": "3830a503-abff-4ab6-a9ab-ef1ae69f4344"
      },
      "outputs": [
        {
          "output_type": "execute_result",
          "data": {
            "text/plain": [
              "<rdkit.Chem.rdchem.Mol at 0x794762fd9f50>"
            ],
            "image/png": "[encoded data removed]"
          },
          "metadata": {},
          "execution_count": 52
        }
      ],
      "source": [
        "# import these definitions\n",
        "from rdkit import Chem\n",
        "from rdkit.Chem import Draw\n",
        "from rdkit.Chem import AllChem\n",
        "from rdkit.Chem.Draw import IPythonConsole\n",
        "IPythonConsole.drawOptions.addAtomIndices = True\n",
        "\n",
        "# generate the moleucle\n",
        "smiles = r\"C=CC=CC=C\" # insert smiles for your molecule\n",
        "mol = Chem.MolFromSmiles(smiles)\n",
        "#Add hydrogen atoms to the molecule\n",
        "mol = Chem.AddHs(mol)\n",
        "#Generate a random 3D configuration\n",
        "Chem.AllChem.EmbedMolecule(mol)\n",
        "#Safe the molecule in XYZ file under desired name\n",
        "Chem.MolToXYZFile(mol, \"1,3,5-HEXATRIENE.xyz\")\n",
        "mol"
      ]
    },
    {
      "cell_type": "markdown",
      "source": [
        "The next cell is not necessary for our main purpose but can be interesting for those who want to learn how to perform simple manipulations on the molecule we have generated. For example, we can change dihedral angles. In the cell below, you can see how to do this and observe how it changes the structure of the molecule.\n",
        "\n",
        "We will use the function\n",
        "Chem.rdMolTransforms.SetDihedralDeg(mol.GetConformer(0), a, b, c, d, angle)\n",
        "where you input the numbers of the atoms between which you want to set the dihedral angle, along with the desired angle in degrees. In the example below, we set the angle between atoms 1, 2, 3, and 4 to 180 degrees. You can try creating various structures by changing these values.For the atom numbers, refer to the image generated after running the previous cell.\n",
        "\n",
        "It is important to understand that each of these structures will have a different energy. Generally, compounds with a dihedral angle around a double bond of about 180 degrees are more stable. You can experiment with this for your particular compound."
      ],
      "metadata": {
        "id": "PciyLJ7ZbpfZ"
      }
    },
    {
      "cell_type": "code",
      "source": [
        "#set dihedral angle between atoms 1,2,3,4 to 0\n",
        "Chem.AllChem.SetDihedralDeg(mol.GetConformer(0),1,2,3,4,180)\n",
        "#Safe the molecule in XYZ file\n",
        "Chem.MolToXYZFile(mol, \"1,3,5-HEXATRIENE.xyz\")\n",
        "mol\n"
      ],
      "metadata": {
        "id": "9hnbzZEnxCZW",
        "outputId": "6b85b3b8-e4a2-4a55-8477-6c7e318903d5",
        "colab": {
          "base_uri": "https://localhost:8080/",
          "height": 167
        }
      },
      "execution_count": null,
      "outputs": [
        {
          "output_type": "execute_result",
          "data": {
            "text/plain": [
              "<rdkit.Chem.rdchem.Mol at 0x794762fd9f50>"
            ],
            "image/png": "[encoded data removed]"
          },
          "metadata": {},
          "execution_count": 57
        }
      ]
    },
    {
      "cell_type": "markdown",
      "source": [
        "So now we have generated a molecule with a rather random structure (even though we have seen how we can change the angles). The structure is still not optimal; the exact bond angles and lengths are not perfect and do not correspond to the real molecule.\n",
        "\n",
        "Now we will use this unoptimized structure to let Python perform calculations that adjust the angles and bond lengths between atoms to make the structure closer to the real one. We will omit the details of how this function works. Simply put, it changes the coordinates of the atoms, calculates the energy of the system, predicts how to adjust the coordinates to lower the energy, updates them, and then recalculates the energy. This process repeats until the energy changes become negligible.\n",
        "\n",
        "As with all calculations, there is always a trade-off between time and accuracy. The more precise we want to be, the longer the calculation will take. Here, we choose a relatively fast method, which is good enough for our purpose — to observe differences in HOMO-LUMO gaps in conjugated systems — but it will not be accurate enough to predict real properties with high precision."
      ],
      "metadata": {
        "id": "Eb64M4nUhBjS"
      }
    },
    {
      "cell_type": "code",
      "source": [
        "from pyscf import gto, scf, dft, tddft\n",
        "\n",
        "# create the pyscf molecule\n",
        "mol = gto.Mole()\n",
        "mol.atom=\"1,3,5-HEXATRIENE.xyz\"# put the name of xyz file for your molecule\n",
        "# set basis set\n",
        "mol.basis = \"sto-3g\"\n",
        "mol.build()\n",
        "\n",
        "# set the functional\n",
        "mf = mol.KS()\n",
        "mf.xc = 'b3lyp'\n",
        "\n",
        "# run optimatization  calculations\n",
        "mol_eq = optimize(mf)\n",
        "\n",
        "#save the optimizaed molecule\n",
        "mol_eq.tofile(\"opt_1,3,5-HEXATRIENE.xyz\")#put a name of the file to save your optimized structure"
      ],
      "metadata": {
        "colab": {
          "base_uri": "https://localhost:8080/",
          "height": 4254
        },
        "collapsed": true,
        "id": "gbAVU7TjbKCG",
        "outputId": "3b77618e-f12b-4e82-ada1-3da15a7f73d6"
      },
      "execution_count": null,
      "outputs": [
        {
          "output_type": "stream",
          "name": "stderr",
          "text": [
            "geometric-optimize called with the following command line:\n",
            "/usr/local/lib/python3.11/dist-packages/colab_kernel_launcher.py -f /root/.local/share/jupyter/runtime/kernel-a087d6d2-6775-4093-9370-ee4b8c8be8d9.json\n",
            "\n",
            "                                        \u001b[91m())))))))))))))))/\u001b[0m                     \n",
            "                                    \u001b[91m())))))))))))))))))))))))),\u001b[0m                \n",
            "                                \u001b[91m*)))))))))))))))))))))))))))))))))\u001b[0m             \n",
            "                        \u001b[94m#,\u001b[0m    \u001b[91m()))))))))/\u001b[0m                \u001b[91m.)))))))))),\u001b[0m          \n",
            "                      \u001b[94m#%%%%,\u001b[0m  \u001b[91m())))))\u001b[0m                        \u001b[91m.))))))))*\u001b[0m        \n",
            "                      \u001b[94m*%%%%%%,\u001b[0m  \u001b[91m))\u001b[0m              \u001b[93m..\u001b[0m              \u001b[91m,))))))).\u001b[0m      \n",
            "                        \u001b[94m*%%%%%%,\u001b[0m         \u001b[93m***************/.\u001b[0m        \u001b[91m.)))))))\u001b[0m     \n",
            "                \u001b[94m#%%/\u001b[0m      \u001b[94m(%%%%%%,\u001b[0m    \u001b[93m/*********************.\u001b[0m       \u001b[91m)))))))\u001b[0m    \n",
            "              \u001b[94m.%%%%%%#\u001b[0m      \u001b[94m*%%%%%%,\u001b[0m  \u001b[93m*******/,\u001b[0m     \u001b[93m**********,\u001b[0m      \u001b[91m.))))))\u001b[0m   \n",
            "                \u001b[94m.%%%%%%/\u001b[0m      \u001b[94m*%%%%%%,\u001b[0m  \u001b[93m**\u001b[0m              \u001b[93m********\u001b[0m      \u001b[91m.))))))\u001b[0m  \n",
            "          \u001b[94m##\u001b[0m      \u001b[94m.%%%%%%/\u001b[0m      \u001b[94m(%%%%%%,\u001b[0m                  \u001b[93m,******\u001b[0m      \u001b[91m/)))))\u001b[0m  \n",
            "        \u001b[94m%%%%%%\u001b[0m      \u001b[94m.%%%%%%#\u001b[0m      \u001b[94m*%%%%%%,\u001b[0m    \u001b[92m,/////.\u001b[0m       \u001b[93m******\u001b[0m      \u001b[91m))))))\u001b[0m \n",
            "      \u001b[94m#%\u001b[0m      \u001b[94m%%\u001b[0m      \u001b[94m.%%%%%%/\u001b[0m      \u001b[94m*%%%%%%,\u001b[0m  \u001b[92m////////,\u001b[0m      \u001b[93m*****/\u001b[0m     \u001b[91m,)))))\u001b[0m \n",
            "    \u001b[94m#%%\u001b[0m  \u001b[94m%%%\u001b[0m  \u001b[94m%%%#\u001b[0m      \u001b[94m.%%%%%%/\u001b[0m      \u001b[94m(%%%%%%,\u001b[0m  \u001b[92m///////.\u001b[0m     \u001b[93m/*****\u001b[0m      \u001b[91m))))).\u001b[0m\n",
            "  \u001b[94m#%%%%.\u001b[0m      \u001b[94m%%%%%#\u001b[0m      \u001b[94m/%%%%%%*\u001b[0m      \u001b[94m#%%%%%%\u001b[0m   \u001b[92m/////)\u001b[0m     \u001b[93m******\u001b[0m      \u001b[91m))))),\u001b[0m\n",
            "    \u001b[94m#%%%%##%\u001b[0m  \u001b[94m%%%#\u001b[0m      \u001b[94m.%%%%%%/\u001b[0m      \u001b[94m(%%%%%%,\u001b[0m  \u001b[92m///////.\u001b[0m     \u001b[93m/*****\u001b[0m      \u001b[91m))))).\u001b[0m\n",
            "      \u001b[94m##\u001b[0m     \u001b[94m%%%\u001b[0m      \u001b[94m.%%%%%%/\u001b[0m      \u001b[94m*%%%%%%,\u001b[0m  \u001b[92m////////.\u001b[0m      \u001b[93m*****/\u001b[0m     \u001b[91m,)))))\u001b[0m \n",
            "        \u001b[94m#%%%%#\u001b[0m      \u001b[94m/%%%%%%/\u001b[0m      \u001b[94m(%%%%%%\u001b[0m      \u001b[92m/)/)//\u001b[0m       \u001b[93m******\u001b[0m      \u001b[91m))))))\u001b[0m \n",
            "          \u001b[94m##\u001b[0m      \u001b[94m.%%%%%%/\u001b[0m      \u001b[94m(%%%%%%,\u001b[0m                  \u001b[93m*******\u001b[0m      \u001b[91m))))))\u001b[0m  \n",
            "                \u001b[94m.%%%%%%/\u001b[0m      \u001b[94m*%%%%%%,\u001b[0m  \u001b[93m**.\u001b[0m             \u001b[93m/*******\u001b[0m      \u001b[91m.))))))\u001b[0m  \n",
            "              \u001b[94m*%%%%%%/\u001b[0m      \u001b[94m(%%%%%%\u001b[0m   \u001b[93m********/*..,*/*********\u001b[0m       \u001b[91m*))))))\u001b[0m   \n",
            "                \u001b[94m#%%/\u001b[0m      \u001b[94m(%%%%%%,\u001b[0m    \u001b[93m*********************/\u001b[0m        \u001b[91m)))))))\u001b[0m    \n",
            "                        \u001b[94m*%%%%%%,\u001b[0m         \u001b[93m,**************/\u001b[0m         \u001b[91m,))))))/\u001b[0m     \n",
            "                      \u001b[94m(%%%%%%\u001b[0m   \u001b[91m()\u001b[0m                              \u001b[91m))))))))\u001b[0m       \n",
            "                      \u001b[94m#%%%%,\u001b[0m  \u001b[91m())))))\u001b[0m                        \u001b[91m,)))))))),\u001b[0m        \n",
            "                        \u001b[94m#,\u001b[0m    \u001b[91m())))))))))\u001b[0m                \u001b[91m,)))))))))).\u001b[0m          \n",
            "                                 \u001b[91m()))))))))))))))))))))))))))))))/\u001b[0m             \n",
            "                                    \u001b[91m())))))))))))))))))))))))).\u001b[0m                \n",
            "                                         \u001b[91m())))))))))))))),\u001b[0m                     \n",
            "\n",
            "-=# \u001b[1;94m geomeTRIC started. Version: 1.1 \u001b[0m #=-\n",
            "Current date and time: 2025-07-30 14:10:35\n",
            "#========================================================#\n",
            "#| \u001b[92m    Arguments passed to driver run_optimizer():     \u001b[0m |#\n",
            "#========================================================#\n",
            "customengine              <pyscf.geomopt.geometric_solver.PySCFEngine object at 0x7a466f2f5610> \n",
            "input                     /tmp/tmp2ozifs2_/85b5583e-f220-488a-a720-297732446158 \n",
            "logIni                    /usr/local/lib/python3.11/dist-packages/pyscf/geomopt/log.ini \n",
            "maxiter                   100 \n",
            "----------------------------------------------------------\n",
            "Custom engine selected.\n",
            "Bonds will be generated from interatomic distances less than 1.20 times sum of covalent radii\n",
            "18 internal coordinates being used (instead of 18 Cartesians)\n",
            "Internal coordinate system (atoms numbered from 1):\n",
            "Distance 1-2\n",
            "Distance 1-3\n",
            "Distance 1-4\n",
            "Distance 2-5\n",
            "Distance 2-6\n",
            "Angle 2-1-4\n",
            "Angle 3-1-4\n",
            "Angle 1-2-6\n",
            "Angle 5-2-6\n",
            "Out-of-Plane 1-2-3-4\n",
            "Out-of-Plane 2-1-5-6\n",
            "Dihedral 3-1-2-5\n",
            "Dihedral 3-1-2-6\n",
            "Dihedral 4-1-2-5\n",
            "Dihedral 4-1-2-6\n",
            "Translation-X 1-6\n",
            "Translation-Y 1-6\n",
            "Translation-Z 1-6\n",
            "Rotation-A 1-6\n",
            "Rotation-B 1-6\n",
            "Rotation-C 1-6\n",
            "<class 'geometric.internal.Distance'> : 5\n",
            "<class 'geometric.internal.Angle'> : 4\n",
            "<class 'geometric.internal.OutOfPlane'> : 2\n",
            "<class 'geometric.internal.Dihedral'> : 4\n",
            "<class 'geometric.internal.TranslationX'> : 1\n",
            "<class 'geometric.internal.TranslationY'> : 1\n",
            "<class 'geometric.internal.TranslationZ'> : 1\n",
            "<class 'geometric.internal.RotationA'> : 1\n",
            "<class 'geometric.internal.RotationB'> : 1\n",
            "<class 'geometric.internal.RotationC'> : 1\n",
            "> ===== Optimization Info: ====\n",
            "> Job type: Energy minimization\n",
            "> Maximum number of optimization cycles: 100\n",
            "> Initial / maximum trust radius (Angstrom): 0.100 / 0.300\n",
            "> Convergence Criteria:\n",
            "> Will converge when all 5 criteria are reached:\n",
            ">  |Delta-E| < 1.00e-06\n",
            ">  RMS-Grad  < 3.00e-04\n",
            ">  Max-Grad  < 4.50e-04\n",
            ">  RMS-Disp  < 1.20e-03\n",
            ">  Max-Disp  < 1.80e-03\n",
            "> === End Optimization Info ===\n"
          ]
        },
        {
          "output_type": "stream",
          "name": "stdout",
          "text": [
            "\n",
            "Geometry optimization cycle 1\n"
          ]
        },
        {
          "output_type": "stream",
          "name": "stderr",
          "text": [
            "/usr/local/lib/python3.11/dist-packages/pyscf/dft/libxc.py:511: UserWarning: Since PySCF-2.3, B3LYP (and B3P86) are changed to the VWN-RPA variant, corresponding to the original definition by Stephens et al. (issue 1480) and the same as the B3LYP functional in Gaussian. To restore the VWN5 definition, you can put the setting \"B3LYP_WITH_VWN5 = True\" in pyscf_conf.py\n",
            "  warnings.warn('Since PySCF-2.3, B3LYP (and B3P86) are changed to the VWN-RPA variant, '\n"
          ]
        },
        {
          "output_type": "stream",
          "name": "stdout",
          "text": [
            "Cartesian coordinates (Angstrom)\n",
            " Atom        New coordinates             dX        dY        dZ\n",
            "   C  -0.507901  -0.352986   0.239323    0.000000  0.000000  0.000000\n",
            "   C   0.497870   0.380491  -0.240705    0.000000  0.000000  0.000000\n",
            "   H  -0.317622  -1.415163   0.361052    0.000000  0.000000  0.000000\n",
            "   H  -1.472704   0.073120   0.499874    0.000000  0.000000  0.000000\n",
            "   H   1.419826  -0.135383  -0.470431    0.000000  0.000000  0.000000\n",
            "   H   0.380531   1.449921  -0.389113    0.000000  0.000000  0.000000\n",
            "converged SCF energy = -77.619634712641\n",
            "--------------- RKS_Scanner gradients ---------------\n",
            "         x                y                z\n",
            "0 C    -0.0153705113    -0.0054996950     0.0063312116\n",
            "1 C     0.0202192392     0.0069658956    -0.0082805784\n",
            "2 H     0.0096198511     0.0102131141    -0.0051570720\n",
            "3 H     0.0080091154     0.0011298571    -0.0029881881\n",
            "4 H    -0.0153411794    -0.0044870208     0.0061365965\n",
            "5 H    -0.0071370111    -0.0083225170     0.0039578458\n",
            "----------------------------------------------\n",
            "cycle 1: E = -77.6196347126  dE = -77.6196  norm(grad) = 0.0394879\n"
          ]
        },
        {
          "output_type": "stream",
          "name": "stderr",
          "text": [
            "Step    0 : Gradient = 1.612e-02/2.293e-02 (rms/max) Energy = -77.6196347126\n",
            "Hessian Eigenvalues: 2.30000e-02 2.78828e-02 2.80809e-02 ... 3.52872e-01 3.58548e-01 5.85332e-01\n"
          ]
        },
        {
          "output_type": "stream",
          "name": "stdout",
          "text": [
            "\n",
            "Geometry optimization cycle 2\n",
            "Cartesian coordinates (Angstrom)\n",
            " Atom        New coordinates             dX        dY        dZ\n",
            "   C  -0.482906  -0.392429   0.237583    0.024995 -0.039443 -0.001740\n",
            "   C   0.517082   0.356611  -0.243142    0.019212 -0.023880 -0.002437\n",
            "   H  -0.464085  -1.473813   0.422400   -0.146463 -0.058650  0.061348\n",
            "   H  -1.433878   0.093790   0.482668    0.038826  0.020670 -0.017206\n",
            "   H   1.509558  -0.016491  -0.522686    0.089732  0.118892 -0.052255\n",
            "   H   0.354244   1.432342  -0.376817   -0.026287 -0.017579  0.012296\n",
            "converged SCF energy = -77.6213283262539\n",
            "--------------- RKS_Scanner gradients ---------------\n",
            "         x                y                z\n",
            "0 C    -0.0013848689    -0.0067486681     0.0016812605\n",
            "1 C     0.0070999331     0.0045012892    -0.0032734261\n",
            "2 H    -0.0062237666    -0.0001882853     0.0022007820\n",
            "3 H     0.0024060741     0.0007866560    -0.0009763258\n",
            "4 H     0.0007483090     0.0030592521    -0.0008023276\n",
            "5 H    -0.0026460967    -0.0014091950     0.0011697709\n",
            "----------------------------------------------\n",
            "cycle 2: E = -77.6213283263  dE = -0.00169361  norm(grad) = 0.0142678\n"
          ]
        },
        {
          "output_type": "stream",
          "name": "stderr",
          "text": [
            "Step    1 : Displace = \u001b[0m1.001e-01\u001b[0m/\u001b[0m1.693e-01\u001b[0m (rms/max) Trust = 1.000e-01 (=) Grad = \u001b[0m5.825e-03\u001b[0m/\u001b[0m9.021e-03\u001b[0m (rms/max) E (change) = -77.6213283263 (\u001b[0m-1.694e-03\u001b[0m) Quality = \u001b[0m0.352\u001b[0m\n",
            "Hessian Eigenvalues: 2.30000e-02 2.78828e-02 2.80809e-02 ... 3.55722e-01 3.78815e-01 6.09906e-01\n"
          ]
        },
        {
          "output_type": "stream",
          "name": "stdout",
          "text": [
            "\n",
            "Geometry optimization cycle 3\n",
            "Cartesian coordinates (Angstrom)\n",
            " Atom        New coordinates             dX        dY        dZ\n",
            "   C  -0.500369  -0.371342   0.239888   -0.017462  0.021087  0.002305\n",
            "   C   0.501872   0.367571  -0.239735   -0.015210  0.010960  0.003407\n",
            "   H  -0.400339  -1.454167   0.396668    0.063745  0.019646 -0.025731\n",
            "   H  -1.473366   0.068865   0.500767   -0.039487 -0.024925  0.018099\n",
            "   H   1.478898  -0.061277  -0.504025   -0.030660 -0.044786  0.018661\n",
            "   H   0.393342   1.450322  -0.393544    0.039099  0.017980 -0.016727\n",
            "converged SCF energy = -77.622403271069\n",
            "--------------- RKS_Scanner gradients ---------------\n",
            "         x                y                z\n",
            "0 C    -0.0012582010     0.0000937080     0.0004220945\n",
            "1 C     0.0012978599    -0.0010272868    -0.0002705985\n",
            "2 H     0.0005662492    -0.0011421036     0.0000067094\n",
            "3 H    -0.0015276125     0.0009932762     0.0003577414\n",
            "4 H     0.0017803420    -0.0001846615    -0.0005888284\n",
            "5 H    -0.0008586512     0.0012672343     0.0000728224\n",
            "----------------------------------------------\n",
            "cycle 3: E = -77.6224032711  dE = -0.00107494  norm(grad) = 0.003944\n"
          ]
        },
        {
          "output_type": "stream",
          "name": "stderr",
          "text": [
            "Step    2 : Displace = \u001b[0m4.859e-02\u001b[0m/\u001b[0m7.142e-02\u001b[0m (rms/max) Trust = 1.000e-01 (=) Grad = \u001b[0m1.610e-03\u001b[0m/\u001b[0m1.884e-03\u001b[0m (rms/max) E (change) = -77.6224032711 (\u001b[0m-1.075e-03\u001b[0m) Quality = \u001b[0m1.036\u001b[0m\n",
            "Hessian Eigenvalues: 2.30000e-02 2.78828e-02 2.80809e-02 ... 3.56614e-01 3.88870e-01 5.88497e-01\n"
          ]
        },
        {
          "output_type": "stream",
          "name": "stdout",
          "text": [
            "\n",
            "Geometry optimization cycle 4\n",
            "Cartesian coordinates (Angstrom)\n",
            " Atom        New coordinates             dX        dY        dZ\n",
            "   C  -0.496652  -0.371614   0.238601    0.003717 -0.000272 -0.001287\n",
            "   C   0.497746   0.375297  -0.239622   -0.004126  0.007726  0.000113\n",
            "   H  -0.397897  -1.452748   0.395487    0.002442  0.001418 -0.001181\n",
            "   H  -1.469389   0.061581   0.500595    0.003977 -0.007284 -0.000172\n",
            "   H   1.466332  -0.069130  -0.498184   -0.012565 -0.007853  0.005841\n",
            "   H   0.399900   1.456576  -0.396853    0.006558  0.006254 -0.003309\n",
            "converged SCF energy = -77.6223948096459\n",
            "--------------- RKS_Scanner gradients ---------------\n",
            "         x                y                z\n",
            "0 C     0.0020428888    -0.0016716411    -0.0004147299\n",
            "1 C    -0.0010591646     0.0026675734    -0.0001037209\n",
            "2 H    -0.0007561852     0.0000090640     0.0002633061\n",
            "3 H     0.0006750634     0.0000551348    -0.0002430323\n",
            "4 H    -0.0010780673    -0.0012590976     0.0005964124\n",
            "5 H     0.0001754478     0.0001988010    -0.0000981485\n",
            "----------------------------------------------\n",
            "cycle 4: E = -77.6223948096  dE = 8.46142e-06  norm(grad) = 0.00444191\n"
          ]
        },
        {
          "output_type": "stream",
          "name": "stderr",
          "text": [
            "Step    3 : Displace = \u001b[0m9.284e-03\u001b[0m/\u001b[0m1.601e-02\u001b[0m (rms/max) Trust = 1.414e-01 (\u001b[92m+\u001b[0m) Grad = \u001b[0m1.813e-03\u001b[0m/\u001b[0m2.872e-03\u001b[0m (rms/max) E (change) = -77.6223948096 (\u001b[91m+8.461e-06\u001b[0m) Quality = \u001b[91m-0.166\u001b[0m\n",
            "Hessian Eigenvalues: 2.30000e-02 2.78828e-02 2.80809e-02 ... 3.74184e-01 4.66263e-01 5.93981e-01\n"
          ]
        },
        {
          "output_type": "stream",
          "name": "stdout",
          "text": [
            "\n",
            "Geometry optimization cycle 5\n",
            "Cartesian coordinates (Angstrom)\n",
            " Atom        New coordinates             dX        dY        dZ\n",
            "   C  -0.499402  -0.370428   0.239337   -0.002750  0.001186  0.000736\n",
            "   C   0.499197   0.370787  -0.239318    0.001451 -0.004510  0.000304\n",
            "   H  -0.398072  -1.451263   0.395263   -0.000175  0.001486 -0.000225\n",
            "   H  -1.472017   0.063269   0.501190   -0.002628  0.001688  0.000595\n",
            "   H   1.471412  -0.063981  -0.500842    0.005080  0.005149 -0.002657\n",
            "   H   0.398923   1.451579  -0.395606   -0.000978 -0.004997  0.001247\n",
            "converged SCF energy = -77.6224319381052\n",
            "--------------- RKS_Scanner gradients ---------------\n",
            "         x                y                z\n",
            "0 C    -0.0000268599    -0.0000399044     0.0000172126\n",
            "1 C     0.0000029898     0.0001526212    -0.0000288330\n",
            "2 H    -0.0000029058     0.0003322720    -0.0000560571\n",
            "3 H     0.0003538349    -0.0001418359    -0.0000963734\n",
            "4 H    -0.0003877672     0.0000872107     0.0001179983\n",
            "5 H     0.0000607104    -0.0003903794     0.0000460577\n",
            "----------------------------------------------\n",
            "cycle 5: E = -77.6224319381  dE = -3.71285e-05  norm(grad) = 0.000790569\n"
          ]
        },
        {
          "output_type": "stream",
          "name": "stderr",
          "text": [
            "Step    4 : Displace = \u001b[0m4.678e-03\u001b[0m/\u001b[0m7.731e-03\u001b[0m (rms/max) Trust = 4.642e-03 (\u001b[91m-\u001b[0m) Grad = \u001b[0m3.227e-04\u001b[0m/\u001b[92m4.146e-04\u001b[0m (rms/max) E (change) = -77.6224319381 (\u001b[0m-3.713e-05\u001b[0m) Quality = \u001b[0m0.920\u001b[0m\n",
            "Hessian Eigenvalues: 2.30000e-02 2.78828e-02 2.80809e-02 ... 3.78100e-01 4.87597e-01 5.80351e-01\n"
          ]
        },
        {
          "output_type": "stream",
          "name": "stdout",
          "text": [
            "\n",
            "Geometry optimization cycle 6\n",
            "Cartesian coordinates (Angstrom)\n",
            " Atom        New coordinates             dX        dY        dZ\n",
            "   C  -0.499444  -0.370729   0.239368   -0.000042 -0.000301  0.000031\n",
            "   C   0.499563   0.370589  -0.239375    0.000366 -0.000197 -0.000056\n",
            "   H  -0.398766  -1.452200   0.395600   -0.000694 -0.000937  0.000337\n",
            "   H  -1.472532   0.063727   0.501220   -0.000516  0.000458  0.000031\n",
            "   H   1.472781  -0.063504  -0.501335    0.001368  0.000477 -0.000494\n",
            "   H   0.398440   1.452080  -0.395456   -0.000483  0.000501  0.000150\n",
            "converged SCF energy = -77.6224326625345\n",
            "--------------- RKS_Scanner gradients ---------------\n",
            "         x                y                z\n",
            "0 C     0.0000024945    -0.0000506040     0.0000090426\n",
            "1 C     0.0000212152     0.0000079131    -0.0000097456\n",
            "2 H     0.0000036287    -0.0001413121     0.0000254305\n",
            "3 H    -0.0001498247     0.0000839779     0.0000389227\n",
            "4 H     0.0001562342    -0.0000688034    -0.0000437539\n",
            "5 H    -0.0000337490     0.0001688339    -0.0000198978\n",
            "----------------------------------------------\n",
            "cycle 6: E = -77.6224326625  dE = -7.24429e-07  norm(grad) = 0.000340584\n"
          ]
        },
        {
          "output_type": "stream",
          "name": "stderr",
          "text": [
            "Step    5 : Displace = \u001b[92m9.164e-04\u001b[0m/\u001b[92m1.512e-03\u001b[0m (rms/max) Trust = 6.565e-03 (\u001b[92m+\u001b[0m) Grad = \u001b[92m1.390e-04\u001b[0m/\u001b[92m1.762e-04\u001b[0m (rms/max) E (change) = -77.6224326625 (\u001b[92m-7.244e-07\u001b[0m) Quality = \u001b[0m0.565\u001b[0m\n",
            "Hessian Eigenvalues: 2.30000e-02 2.78828e-02 2.80809e-02 ... 3.78100e-01 4.87597e-01 5.80351e-01\n",
            "Converged! =D\n",
            "\n",
            "    #==========================================================================#\n",
            "    #| If this code has benefited your research, please support us by citing: |#\n",
            "    #|                                                                        |#\n",
            "    #| Wang, L.-P.; Song, C.C. (2016) \"Geometry optimization made simple with |#\n",
            "    #| translation and rotation coordinates\", J. Chem, Phys. 144, 214108.     |#\n",
            "    #| http://dx.doi.org/10.1063/1.4952956                                    |#\n",
            "    #==========================================================================#\n",
            "    Time elapsed since start of run_optimizer: 13.531 seconds\n"
          ]
        },
        {
          "output_type": "execute_result",
          "data": {
            "text/plain": [
              "'6\\nXYZ from PySCF\\nC          -0.49944402       -0.37072942        0.23936801\\nC           0.49956274        0.37058949       -0.23937471\\nH          -0.39876605       -1.45219956        0.39559970\\nH          -1.47253236        0.06372741        0.50122041\\nH           1.47278052       -0.06350448       -0.50133543\\nH           0.39843969        1.45207982       -0.39545591'"
            ],
            "application/vnd.google.colaboratory.intrinsic+json": {
              "type": "string"
            }
          },
          "metadata": {},
          "execution_count": 4
        }
      ]
    },
    {
      "cell_type": "markdown",
      "source": [
        "Now we will use the structure of the optimized molecule to generate molecular orbitals and finally calculate the HOMO–LUMO gap. Again, we will not go into details about how exactly these calculations are performed. What is important for us is that we will obtain an array of numbers corresponding to the energies of all molecular orbitals for our molecule, expressed in Hartree — one of the units of energy. We will later convert these energies to electronvolts (eV), a more common unit for molecular energies, by simply multiplying by 27.2114.\n"
      ],
      "metadata": {
        "id": "_koRefjznK9x"
      }
    },
    {
      "cell_type": "code",
      "source": [
        "from pyscf import gto, scf\n",
        "\n",
        "# create the pyscf molecule\n",
        "mol = gto.Mole()\n",
        "mol.atom=\"opt_1,3,5-HEXATRIENE.xyz\" # put the file name for the optimized structure\n",
        "# set basis set\n",
        "mol.basis = \"sto-3g\"\n",
        "mol.build()\n",
        "\n",
        "# set DFT functional\n",
        "mf = dft.RKS(mol)\n",
        "mf.xc = 'B3LYP'\n",
        "\n",
        "mf.kernel()\n",
        "\n",
        "print(\"MO Energies (in Hartree):\")\n",
        "print(mf.mo_energy)\n",
        "\n",
        "mo_energies = mf.mo_energy\n",
        "\n",
        "# Get number of electrons to find HOMO\n",
        "nelec = mol.nelectron\n",
        "homo_index = nelec // 2 - 1\n",
        "lumo_index = homo_index + 1\n",
        "\n",
        "# HOMO and LUMO energies\n",
        "homo_energy = mo_energies[homo_index]\n",
        "lumo_energy = mo_energies[lumo_index]\n",
        "\n",
        "# Energy gap in Hartree\n",
        "gap_hartree = lumo_energy - homo_energy\n",
        "\n",
        "# Convert to electronvolts (1 Hartree = 27.2114 eV)\n",
        "gap_ev = gap_hartree * 27.2114\n",
        "\n",
        "\n"
      ],
      "metadata": {
        "colab": {
          "base_uri": "https://localhost:8080/"
        },
        "id": "-J1QuRorrFE2",
        "outputId": "194bc729-c496-468e-8bcd-04555269f9fa"
      },
      "execution_count": 60,
      "outputs": [
        {
          "output_type": "stream",
          "name": "stdout",
          "text": [
            "converged SCF energy = -230.521757022809\n",
            "MO Energies (in Hartree):\n",
            "[-10.00714691 -10.00616244 -10.00572864 -10.00497269  -9.98833159\n",
            "  -9.9879716   -0.78105701  -0.73830056  -0.68247594  -0.57195449\n",
            "  -0.52672787  -0.51441325  -0.45163659  -0.42379798  -0.38849563\n",
            "  -0.35522386  -0.33487299  -0.32443327  -0.30429245  -0.2943965\n",
            "  -0.23515705  -0.15491758   0.04337549   0.14240214   0.22261413\n",
            "   0.34329011   0.40332085   0.41871422   0.42915275   0.43546436\n",
            "   0.44370883   0.45777972   0.57389533   0.6174346    0.66759089\n",
            "   0.69989384   0.73743927   0.80541257]\n"
          ]
        }
      ]
    },
    {
      "cell_type": "markdown",
      "source": [
        "So, we have the whole array of molecular orbitals! But we learned that the highest occupied molecular orbital (HOMO) and the lowest unoccupied molecular orbital (LUMO) are the most important orbitals for predicting color, since the energy of light absorbed often corresponds to this gap (there are exceptions, but we will omit those for now). How do we know which is the HOMO and which is the LUMO?\n",
        "\n",
        "Let’s recap a little:\n",
        "Molecules consist of atoms. In our case, we look at molecules containing only carbon and hydrogen. Each atom consists of a nucleus and electrons. Each hydrogen atom has 1 electron (atomic number 1 in the periodic table), and each carbon atom has 6 electrons (atomic number 6). For bond formation, only the electrons matter, since they hold the atoms together.\n",
        "\n",
        "All electrons reside in orbitals, each of which can hold up to 2 electrons. The first thing we need to know is the total number of electrons in our molecule. For molecules consisting only of carbon and hydrogen, the total number is 6 times the number of carbon atoms plus 1 times the number of hydrogen atoms. So, for 1,3,5-hexatriene, it is 6 × 6 + 1 × 8 = 44. Try calculating this for your molecule.\n",
        "\n",
        "Next, we place the electrons in orbitals, two per orbital, starting from the lowest energy orbital. For 44 electrons, we fill 22 orbitals. The last filled orbital (the 22nd) is the HOMO, and the next one (the 23rd) is the LUMO.\n",
        "\n",
        "Calculate this for your molecule, then run the cell below to see if you got it right."
      ],
      "metadata": {
        "id": "X3ss6fzb0MkH"
      }
    },
    {
      "cell_type": "code",
      "source": [
        "print(\"number of electrons = \", nelec)\n",
        "print(f\"HOMO energy: {homo_energy:.6f} Ha\")\n",
        "print(f\"LUMO energy: {lumo_energy:.6f} Ha\")\n",
        "print(f\"Energy gap: {gap_ev:.2f} eV\")\n"
      ],
      "metadata": {
        "id": "nHFQiVo9z_q0",
        "outputId": "f2a147e7-f073-438b-b1d1-3a2a1a2a61c3",
        "colab": {
          "base_uri": "https://localhost:8080/"
        }
      },
      "execution_count": 61,
      "outputs": [
        {
          "output_type": "stream",
          "name": "stdout",
          "text": [
            "number of electrons =  44\n",
            "HOMO energy: -0.154918 Ha\n",
            "LUMO energy: 0.043375 Ha\n",
            "Energy gap: 5.40 eV\n"
          ]
        }
      ]
    },
    {
      "cell_type": "markdown",
      "metadata": {
        "id": "avw82sGjY066"
      },
      "source": [
        "You are all set! Now, just go ahead and test the molecules we discussed first (ethylene and 1,3-butadiene). Compare their HOMO-LUMO gaps and see if it aligns with what we have learned. Then you can start expanding the conjugated system more and more to see how it affects the HOMO-LUMO gap.\n",
        "\n",
        "Be aware that longer molecules will take much more time to compute and might not even be possible to handle in this system."
      ]
    }
  ],
  "metadata": {
    "colab": {
      "provenance": [],
      "include_colab_link": true
    },
    "kernelspec": {
      "display_name": "Python 3",
      "name": "python3"
    },
    "language_info": {
      "name": "python"
    }
  },
  "nbformat": 4,
  "nbformat_minor": 0
}