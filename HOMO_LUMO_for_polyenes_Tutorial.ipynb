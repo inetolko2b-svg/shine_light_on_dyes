{
  "cells": [
    {
      "cell_type": "markdown",
      "metadata": {
        "id": "view-in-github",
        "colab_type": "text"
      },
      "source": [
        "<a href=\"https://colab.research.google.com/github/inetolko2b-svg/shine_light_on_dyes/blob/main/HOMO_LUMO_for_polyenes_Tutorial.ipynb\" target=\"_parent\"><img src=\"https://colab.research.google.com/assets/colab-badge.svg\" alt=\"Open In Colab\"/></a>"
      ]
    },
    {
      "cell_type": "markdown",
      "source": [
        "**Calculating HOMO-LUMO gaps for conjugated systems!**\n",
        "In this section, we’re going to get some numerical estimates for the HOMO–LUMO gaps of conjugated systems. These numbers are mainly useful for comparing different molecules — they won’t be accurate enough to predict the exact colors of the molecules (for that, see …).\n",
        "\n",
        "We’ll take things one step further by using some ready‑made functions that can solve quantum chemical equations for us. These tools will give us numerical values for the energies of the molecular orbitals in a given molecule. We won’t dive into where these equations come from or exactly how they’re solved — instead, we’ll focus on how to use them to get meaningful and useful information about our molecules."
      ],
      "metadata": {
        "id": "AS9xjikau1bg"
      }
    },
    {
      "cell_type": "markdown",
      "metadata": {
        "id": "dmLC8eFqnC7q"
      },
      "source": [
        "Below is the first code snippet that we need to run to begin our calculations. To execute the code, simply click the **Run** button and wait. This step should only take a short time. We start by installing the required packages and importing the necessary definitions. Packages are collections of Python files that contain useful pieces of code. Installing and importing them allows us to use many predefined functions without having to write the code from scratch. Note! the packages are not installed on your local computer. Instead,\n",
        "Google Colab runs on a remote virtual machine. When you install a package using you are installing it on that virtual machine, not on your own computer. The installed packages will only exist for the duration of your session. Once the session ends (e.g., due to inactivity or manual reset), you'll need to reinstall them the next time you open the notebook. Once the code is executed the resutl will appear in the output window.!!!!!!!"
      ]
    },
    {
      "cell_type": "code",
      "execution_count": null,
      "metadata": {
        "colab": {
          "base_uri": "https://localhost:8080/"
        },
        "collapsed": true,
        "id": "hlXoW9Lxn5Q4",
        "outputId": "80dc5e7c-835a-4d03-d720-17ee2dffe6f0"
      },
      "outputs": [
        {
          "output_type": "stream",
          "name": "stdout",
          "text": [
            "Collecting rdkit\n",
            "  Downloading rdkit-2025.3.5-cp311-cp311-manylinux_2_28_x86_64.whl.metadata (4.1 kB)\n",
            "Requirement already satisfied: numpy in /usr/local/lib/python3.11/dist-packages (from rdkit) (2.0.2)\n",
            "Requirement already satisfied: Pillow in /usr/local/lib/python3.11/dist-packages (from rdkit) (11.3.0)\n",
            "Downloading rdkit-2025.3.5-cp311-cp311-manylinux_2_28_x86_64.whl (36.3 MB)\n",
            "\u001b[2K   \u001b[90m━━━━━━━━━━━━━━━━━━━━━━━━━━━━━━━━━━━━━━━━\u001b[0m \u001b[32m36.3/36.3 MB\u001b[0m \u001b[31m22.5 MB/s\u001b[0m eta \u001b[36m0:00:00\u001b[0m\n",
            "\u001b[?25hInstalling collected packages: rdkit\n",
            "Successfully installed rdkit-2025.3.5\n",
            "Collecting pyscf\n",
            "  Downloading pyscf-2.10.0-py3-none-manylinux_2_17_x86_64.manylinux2014_x86_64.whl.metadata (6.4 kB)\n",
            "Requirement already satisfied: numpy!=1.16,!=1.17,>=1.13 in /usr/local/lib/python3.11/dist-packages (from pyscf) (2.0.2)\n",
            "Requirement already satisfied: scipy>=1.6.0 in /usr/local/lib/python3.11/dist-packages (from pyscf) (1.16.1)\n",
            "Requirement already satisfied: h5py>=2.7 in /usr/local/lib/python3.11/dist-packages (from pyscf) (3.14.0)\n",
            "Requirement already satisfied: setuptools in /usr/local/lib/python3.11/dist-packages (from pyscf) (75.2.0)\n",
            "Downloading pyscf-2.10.0-py3-none-manylinux_2_17_x86_64.manylinux2014_x86_64.whl (51.2 MB)\n",
            "\u001b[2K   \u001b[90m━━━━━━━━━━━━━━━━━━━━━━━━━━━━━━━━━━━━━━━━\u001b[0m \u001b[32m51.2/51.2 MB\u001b[0m \u001b[31m12.2 MB/s\u001b[0m eta \u001b[36m0:00:00\u001b[0m\n",
            "\u001b[?25hInstalling collected packages: pyscf\n",
            "Successfully installed pyscf-2.10.0\n",
            "Collecting geometric\n",
            "  Downloading geometric-1.1.tar.gz (386 kB)\n",
            "\u001b[2K     \u001b[90m━━━━━━━━━━━━━━━━━━━━━━━━━━━━━━━━━━━━━━\u001b[0m \u001b[32m386.0/386.0 kB\u001b[0m \u001b[31m24.2 MB/s\u001b[0m eta \u001b[36m0:00:00\u001b[0m\n",
            "\u001b[?25h  Preparing metadata (setup.py) ... \u001b[?25l\u001b[?25hdone\n",
            "Requirement already satisfied: numpy>=1.11 in /usr/local/lib/python3.11/dist-packages (from geometric) (2.0.2)\n",
            "Requirement already satisfied: networkx in /usr/local/lib/python3.11/dist-packages (from geometric) (3.5)\n",
            "Requirement already satisfied: six in /usr/local/lib/python3.11/dist-packages (from geometric) (1.17.0)\n",
            "Requirement already satisfied: scipy in /usr/local/lib/python3.11/dist-packages (from geometric) (1.16.1)\n",
            "Building wheels for collected packages: geometric\n",
            "  Building wheel for geometric (setup.py) ... \u001b[?25l\u001b[?25hdone\n",
            "  Created wheel for geometric: filename=geometric-1.1-py3-none-any.whl size=402087 sha256=ae52551fdc6371a4842a6764ac92578c2a24b5f92d91c93be6d315c997a232c8\n",
            "  Stored in directory: /root/.cache/pip/wheels/c5/77/0c/96a54539fe0560749fdbe283f92582d09bddb212856407a4cb\n",
            "Successfully built geometric\n",
            "Installing collected packages: geometric\n",
            "Successfully installed geometric-1.1\n"
          ]
        }
      ],
      "source": [
        "! pip install rdkit\n",
        "! pip install pyscf\n",
        "! pip install geometric\n",
        "\n",
        "# import these definitions\n",
        "from rdkit import Chem\n",
        "from rdkit.Chem import Draw\n",
        "from rdkit.Chem import AllChem\n",
        "from rdkit.Chem.Draw import IPythonConsole\n",
        "IPythonConsole.drawOptions.addAtomIndices = True\n",
        "\n",
        "# import the package\n",
        "from pyscf import gto, scf, dft, tddft\n",
        "from pyscf.geomopt.geometric_solver import optimize\n",
        "import scipy.constants as cst\n",
        "import numpy as np\n",
        "from scipy.stats import norm\n",
        "import matplotlib.pyplot as plt\n"
      ]
    },
    {
      "cell_type": "markdown",
      "metadata": {
        "id": "b05xF9IMoVhf"
      },
      "source": [
        "Now we need to generate the desired molecule. The easiest way to do this is by using SMILES (Simplified Molecular Input Line Entry System). Every molecule can be represented as a string of symbols containing information about the types of atoms in the molecule and their connectivity. However, SMILES does not contain information about the three‑dimensional geometry of the molecule.\n",
        "\n",
        "For common molecules, it is usually easy to find their SMILES representation online. For example, you can find the SMILES of a desired molecule in PubChem (https://pubchem.ncbi.nlm.nih.gov/) by searching for it by name or drawing its structure.\n",
        "\n",
        "In the code below, we convert the SMILES format into an XYZ file, which contains the 3D coordinates of each atom. An XYZ file is simply a table listing the x, y, and z coordinates for each atom in the molecule. This file will appear under the Files icon on the left in Google Colab and can be downloaded and opened in various specialized molecular visualization programs — for example, in Avogadro, a free, open‑source molecular editor available at https://avogadro.cc/downloads/.\n",
        "\n",
        "The code below reads SMILES and convert use this information to build a random 3D structure, where the angles and bond lengths are rnadom and not optimized, every time you run the cell you will generate a new conformation."
      ]
    },
    {
      "cell_type": "code",
      "execution_count": null,
      "metadata": {
        "id": "u1vuM1KfX65g",
        "colab": {
          "base_uri": "https://localhost:8080/",
          "height": 167
        },
        "outputId": "3830a503-abff-4ab6-a9ab-ef1ae69f4344"
      },
      "outputs": [
        {
          "output_type": "execute_result",
          "data": {
            "text/plain": [
              "<rdkit.Chem.rdchem.Mol at 0x794762fd9f50>"
            ],
            "image/png": "[encoded data removed]"
          },
          "metadata": {},
          "execution_count": 52
        }
      ],
      "source": [
        "# import these definitions\n",
        "from rdkit import Chem\n",
        "from rdkit.Chem import Draw\n",
        "from rdkit.Chem import AllChem\n",
        "from rdkit.Chem.Draw import IPythonConsole\n",
        "IPythonConsole.drawOptions.addAtomIndices = True\n",
        "\n",
        "# generate the moleucle\n",
        "smiles = r\"C=CC=CC=C\" # insert smiles for your molecule\n",
        "mol = Chem.MolFromSmiles(smiles)\n",
        "#Add hydrogen atoms to the molecule\n",
        "mol = Chem.AddHs(mol)\n",
        "#Generate a random 3D configuration\n",
        "Chem.AllChem.EmbedMolecule(mol)\n",
        "#Safe the molecule in XYZ file under desired name\n",
        "Chem.MolToXYZFile(mol, \"1,3,5-HEXATRIENE.xyz\")\n",
        "mol"
      ]
    },
    {
      "cell_type": "markdown",
      "source": [
        "The next cell is not necessary for our purpose, but can be interesting because for those who want to learn how to do some simple manipulations with the molecule we have generated. For example, we can change the angles. In the cell below, you can see how to do this and how it changes the structure of the molecule.\n",
        "\n",
        "We will use the function Chem.rdMolTransforms.SetDihedralDeg(mol.GetConformer(0), a, b, c, d, angle) where you input the numbers of the atoms between which you want to set the dihedral angle, and the angle itself. In the example below, we preset the angle between atoms 1, 2, 3, and 4 to 180 degrees. You can try creating various structures by changing these values.\n",
        "\n",
        "It is important to understand that each of these structures will have a different energy. Generally, compounds with a dihedral angle around a double bond of about 180 degrees are more stable. You can experiment and try this for your particular compound."
      ],
      "metadata": {
        "id": "PciyLJ7ZbpfZ"
      }
    },
    {
      "cell_type": "code",
      "source": [
        "#set dihedral angle between atoms 1,2,3,4 to 0\n",
        "Chem.AllChem.SetDihedralDeg(mol.GetConformer(0),1,2,3,4,180)\n",
        "#Safe the molecule in XYZ file\n",
        "Chem.MolToXYZFile(mol, \"1,3,5-HEXATRIENE.xyz\")\n",
        "mol\n"
      ],
      "metadata": {
        "id": "9hnbzZEnxCZW",
        "outputId": "6b85b3b8-e4a2-4a55-8477-6c7e318903d5",
        "colab": {
          "base_uri": "https://localhost:8080/",
          "height": 167
        }
      },
      "execution_count": 57,
      "outputs": [
        {
          "output_type": "execute_result",
          "data": {
            "text/plain": [
              "<rdkit.Chem.rdchem.Mol at 0x794762fd9f50>"
            ],
            "image/png": "[encoded data removed]"
          },
          "metadata": {},
          "execution_count": 57
        }
      ]
    },
    {
      "cell_type": "markdown",
      "source": [],
      "metadata": {
        "id": "nr84NOklg4gL"
      }
    },
    {
      "cell_type": "markdown",
      "source": [
        "So now we have generated a molecule with a rather random strcutre (even though we have seen how we can change the angels). The strcutre is still not optimal, exat bond angles and lengths are not perfect and do not correspond to the real molecule. Now we will use this not optimized strcutre to allow python to do some calculations to tune the angles and the bonds between the atoms to make it closer to the real one. We will opmit here the details of how this function works. We will just say that it changes the coordinatates of the atoms and look at the energy of the system, predicts how they should be changed to lower the energy, changes them, calulates the energy again. This process continuese all over again and again untill the energy almost stops to change.\n",
        "\n",
        "As with all calculations there is always a trade off between the time and the accuracy. The more precision we want the longer the calculation will take. Here we opt for a rather fast method, which will be good for our purpose (to see the difference between HOMO-LUMO gaps in conjugated suystems), but will not be enough to predict real properties with high accuracy."
      ],
      "metadata": {
        "id": "Eb64M4nUhBjS"
      }
    },
    {
      "cell_type": "code",
      "source": [
        "from pyscf import gto, scf, dft, tddft\n",
        "\n",
        "# create the pyscf molecule\n",
        "mol = gto.Mole()\n",
        "mol.atom=\"1,3,5-HEXATRIENE.xyz\"# put the name of xyz file for your molecule\n",
        "# set basis set\n",
        "mol.basis = \"sto-3g\"\n",
        "mol.build()\n",
        "\n",
        "# set the functional\n",
        "mf = mol.KS()\n",
        "mf.xc = 'b3lyp'\n",
        "\n",
        "# run optimatization  calculations\n",
        "mol_eq = optimize(mf)\n",
        "\n",
        "#save the optimizaed molecule\n",
        "mol_eq.tofile(\"opt_ethylene.xyz\")#put a name of the file to save your optimized structure"
      ],
      "metadata": {
        "colab": {
          "base_uri": "https://localhost:8080/",
          "height": 4254
        },
        "collapsed": true,
        "id": "gbAVU7TjbKCG",
        "outputId": "3b77618e-f12b-4e82-ada1-3da15a7f73d6"
      },
      "execution_count": null,
      "outputs": [
        {
          "output_type": "stream",
          "name": "stderr",
          "text": [
            "geometric-optimize called with the following command line:\n",
            "/usr/local/lib/python3.11/dist-packages/colab_kernel_launcher.py -f /root/.local/share/jupyter/runtime/kernel-a087d6d2-6775-4093-9370-ee4b8c8be8d9.json\n",
            "\n",
            "                                        \u001b[91m())))))))))))))))/\u001b[0m                     \n",
            "                                    \u001b[91m())))))))))))))))))))))))),\u001b[0m                \n",
            "                                \u001b[91m*)))))))))))))))))))))))))))))))))\u001b[0m             \n",
            "                        \u001b[94m#,\u001b[0m    \u001b[91m()))))))))/\u001b[0m                \u001b[91m.)))))))))),\u001b[0m          \n",
            "                      \u001b[94m#%%%%,\u001b[0m  \u001b[91m())))))\u001b[0m                        \u001b[91m.))))))))*\u001b[0m        \n",
            "                      \u001b[94m*%%%%%%,\u001b[0m  \u001b[91m))\u001b[0m              \u001b[93m..\u001b[0m              \u001b[91m,))))))).\u001b[0m      \n",
            "                        \u001b[94m*%%%%%%,\u001b[0m         \u001b[93m***************/.\u001b[0m        \u001b[91m.)))))))\u001b[0m     \n",
            "                \u001b[94m#%%/\u001b[0m      \u001b[94m(%%%%%%,\u001b[0m    \u001b[93m/*********************.\u001b[0m       \u001b[91m)))))))\u001b[0m    \n",
            "              \u001b[94m.%%%%%%#\u001b[0m      \u001b[94m*%%%%%%,\u001b[0m  \u001b[93m*******/,\u001b[0m     \u001b[93m**********,\u001b[0m      \u001b[91m.))))))\u001b[0m   \n",
            "                \u001b[94m.%%%%%%/\u001b[0m      \u001b[94m*%%%%%%,\u001b[0m  \u001b[93m**\u001b[0m              \u001b[93m********\u001b[0m      \u001b[91m.))))))\u001b[0m  \n",
            "          \u001b[94m##\u001b[0m      \u001b[94m.%%%%%%/\u001b[0m      \u001b[94m(%%%%%%,\u001b[0m                  \u001b[93m,******\u001b[0m      \u001b[91m/)))))\u001b[0m  \n",
            "        \u001b[94m%%%%%%\u001b[0m      \u001b[94m.%%%%%%#\u001b[0m      \u001b[94m*%%%%%%,\u001b[0m    \u001b[92m,/////.\u001b[0m       \u001b[93m******\u001b[0m      \u001b[91m))))))\u001b[0m \n",
            "      \u001b[94m#%\u001b[0m      \u001b[94m%%\u001b[0m      \u001b[94m.%%%%%%/\u001b[0m      \u001b[94m*%%%%%%,\u001b[0m  \u001b[92m////////,\u001b[0m      \u001b[93m*****/\u001b[0m     \u001b[91m,)))))\u001b[0m \n",
            "    \u001b[94m#%%\u001b[0m  \u001b[94m%%%\u001b[0m  \u001b[94m%%%#\u001b[0m      \u001b[94m.%%%%%%/\u001b[0m      \u001b[94m(%%%%%%,\u001b[0m  \u001b[92m///////.\u001b[0m     \u001b[93m/*****\u001b[0m      \u001b[91m))))).\u001b[0m\n",
            "  \u001b[94m#%%%%.\u001b[0m      \u001b[94m%%%%%#\u001b[0m      \u001b[94m/%%%%%%*\u001b[0m      \u001b[94m#%%%%%%\u001b[0m   \u001b[92m/////)\u001b[0m     \u001b[93m******\u001b[0m      \u001b[91m))))),\u001b[0m\n",
            "    \u001b[94m#%%%%##%\u001b[0m  \u001b[94m%%%#\u001b[0m      \u001b[94m.%%%%%%/\u001b[0m      \u001b[94m(%%%%%%,\u001b[0m  \u001b[92m///////.\u001b[0m     \u001b[93m/*****\u001b[0m      \u001b[91m))))).\u001b[0m\n",
            "      \u001b[94m##\u001b[0m     \u001b[94m%%%\u001b[0m      \u001b[94m.%%%%%%/\u001b[0m      \u001b[94m*%%%%%%,\u001b[0m  \u001b[92m////////.\u001b[0m      \u001b[93m*****/\u001b[0m     \u001b[91m,)))))\u001b[0m \n",
            "        \u001b[94m#%%%%#\u001b[0m      \u001b[94m/%%%%%%/\u001b[0m      \u001b[94m(%%%%%%\u001b[0m      \u001b[92m/)/)//\u001b[0m       \u001b[93m******\u001b[0m      \u001b[91m))))))\u001b[0m \n",
            "          \u001b[94m##\u001b[0m      \u001b[94m.%%%%%%/\u001b[0m      \u001b[94m(%%%%%%,\u001b[0m                  \u001b[93m*******\u001b[0m      \u001b[91m))))))\u001b[0m  \n",
            "                \u001b[94m.%%%%%%/\u001b[0m      \u001b[94m*%%%%%%,\u001b[0m  \u001b[93m**.\u001b[0m             \u001b[93m/*******\u001b[0m      \u001b[91m.))))))\u001b[0m  \n",
            "              \u001b[94m*%%%%%%/\u001b[0m      \u001b[94m(%%%%%%\u001b[0m   \u001b[93m********/*..,*/*********\u001b[0m       \u001b[91m*))))))\u001b[0m   \n",
            "                \u001b[94m#%%/\u001b[0m      \u001b[94m(%%%%%%,\u001b[0m    \u001b[93m*********************/\u001b[0m        \u001b[91m)))))))\u001b[0m    \n",
            "                        \u001b[94m*%%%%%%,\u001b[0m         \u001b[93m,**************/\u001b[0m         \u001b[91m,))))))/\u001b[0m     \n",
            "                      \u001b[94m(%%%%%%\u001b[0m   \u001b[91m()\u001b[0m                              \u001b[91m))))))))\u001b[0m       \n",
            "                      \u001b[94m#%%%%,\u001b[0m  \u001b[91m())))))\u001b[0m                        \u001b[91m,)))))))),\u001b[0m        \n",
            "                        \u001b[94m#,\u001b[0m    \u001b[91m())))))))))\u001b[0m                \u001b[91m,)))))))))).\u001b[0m          \n",
            "                                 \u001b[91m()))))))))))))))))))))))))))))))/\u001b[0m             \n",
            "                                    \u001b[91m())))))))))))))))))))))))).\u001b[0m                \n",
            "                                         \u001b[91m())))))))))))))),\u001b[0m                     \n",
            "\n",
            "-=# \u001b[1;94m geomeTRIC started. Version: 1.1 \u001b[0m #=-\n",
            "Current date and time: 2025-07-30 14:10:35\n",
            "#========================================================#\n",
            "#| \u001b[92m    Arguments passed to driver run_optimizer():     \u001b[0m |#\n",
            "#========================================================#\n",
            "customengine              <pyscf.geomopt.geometric_solver.PySCFEngine object at 0x7a466f2f5610> \n",
            "input                     /tmp/tmp2ozifs2_/85b5583e-f220-488a-a720-297732446158 \n",
            "logIni                    /usr/local/lib/python3.11/dist-packages/pyscf/geomopt/log.ini \n",
            "maxiter                   100 \n",
            "----------------------------------------------------------\n",
            "Custom engine selected.\n",
            "Bonds will be generated from interatomic distances less than 1.20 times sum of covalent radii\n",
            "18 internal coordinates being used (instead of 18 Cartesians)\n",
            "Internal coordinate system (atoms numbered from 1):\n",
            "Distance 1-2\n",
            "Distance 1-3\n",
            "Distance 1-4\n",
            "Distance 2-5\n",
            "Distance 2-6\n",
            "Angle 2-1-4\n",
            "Angle 3-1-4\n",
            "Angle 1-2-6\n",
            "Angle 5-2-6\n",
            "Out-of-Plane 1-2-3-4\n",
            "Out-of-Plane 2-1-5-6\n",
            "Dihedral 3-1-2-5\n",
            "Dihedral 3-1-2-6\n",
            "Dihedral 4-1-2-5\n",
            "Dihedral 4-1-2-6\n",
            "Translation-X 1-6\n",
            "Translation-Y 1-6\n",
            "Translation-Z 1-6\n",
            "Rotation-A 1-6\n",
            "Rotation-B 1-6\n",
            "Rotation-C 1-6\n",
            "<class 'geometric.internal.Distance'> : 5\n",
            "<class 'geometric.internal.Angle'> : 4\n",
            "<class 'geometric.internal.OutOfPlane'> : 2\n",
            "<class 'geometric.internal.Dihedral'> : 4\n",
            "<class 'geometric.internal.TranslationX'> : 1\n",
            "<class 'geometric.internal.TranslationY'> : 1\n",
            "<class 'geometric.internal.TranslationZ'> : 1\n",
            "<class 'geometric.internal.RotationA'> : 1\n",
            "<class 'geometric.internal.RotationB'> : 1\n",
            "<class 'geometric.internal.RotationC'> : 1\n",
            "> ===== Optimization Info: ====\n",
            "> Job type: Energy minimization\n",
            "> Maximum number of optimization cycles: 100\n",
            "> Initial / maximum trust radius (Angstrom): 0.100 / 0.300\n",
            "> Convergence Criteria:\n",
            "> Will converge when all 5 criteria are reached:\n",
            ">  |Delta-E| < 1.00e-06\n",
            ">  RMS-Grad  < 3.00e-04\n",
            ">  Max-Grad  < 4.50e-04\n",
            ">  RMS-Disp  < 1.20e-03\n",
            ">  Max-Disp  < 1.80e-03\n",
            "> === End Optimization Info ===\n"
          ]
        },
        {
          "output_type": "stream",
          "name": "stdout",
          "text": [
            "\n",
            "Geometry optimization cycle 1\n"
          ]
        },
        {
          "output_type": "stream",
          "name": "stderr",
          "text": [
            "/usr/local/lib/python3.11/dist-packages/pyscf/dft/libxc.py:511: UserWarning: Since PySCF-2.3, B3LYP (and B3P86) are changed to the VWN-RPA variant, corresponding to the original definition by Stephens et al. (issue 1480) and the same as the B3LYP functional in Gaussian. To restore the VWN5 definition, you can put the setting \"B3LYP_WITH_VWN5 = True\" in pyscf_conf.py\n",
            "  warnings.warn('Since PySCF-2.3, B3LYP (and B3P86) are changed to the VWN-RPA variant, '\n"
          ]
        },
        {
          "output_type": "stream",
          "name": "stdout",
          "text": [
            "Cartesian coordinates (Angstrom)\n",
            " Atom        New coordinates             dX        dY        dZ\n",
            "   C  -0.507901  -0.352986   0.239323    0.000000  0.000000  0.000000\n",
            "   C   0.497870   0.380491  -0.240705    0.000000  0.000000  0.000000\n",
            "   H  -0.317622  -1.415163   0.361052    0.000000  0.000000  0.000000\n",
            "   H  -1.472704   0.073120   0.499874    0.000000  0.000000  0.000000\n",
            "   H   1.419826  -0.135383  -0.470431    0.000000  0.000000  0.000000\n",
            "   H   0.380531   1.449921  -0.389113    0.000000  0.000000  0.000000\n",
            "converged SCF energy = -77.619634712641\n",
            "--------------- RKS_Scanner gradients ---------------\n",
            "         x                y                z\n",
            "0 C    -0.0153705113    -0.0054996950     0.0063312116\n",
            "1 C     0.0202192392     0.0069658956    -0.0082805784\n",
            "2 H     0.0096198511     0.0102131141    -0.0051570720\n",
            "3 H     0.0080091154     0.0011298571    -0.0029881881\n",
            "4 H    -0.0153411794    -0.0044870208     0.0061365965\n",
            "5 H    -0.0071370111    -0.0083225170     0.0039578458\n",
            "----------------------------------------------\n",
            "cycle 1: E = -77.6196347126  dE = -77.6196  norm(grad) = 0.0394879\n"
          ]
        },
        {
          "output_type": "stream",
          "name": "stderr",
          "text": [
            "Step    0 : Gradient = 1.612e-02/2.293e-02 (rms/max) Energy = -77.6196347126\n",
            "Hessian Eigenvalues: 2.30000e-02 2.78828e-02 2.80809e-02 ... 3.52872e-01 3.58548e-01 5.85332e-01\n"
          ]
        },
        {
          "output_type": "stream",
          "name": "stdout",
          "text": [
            "\n",
            "Geometry optimization cycle 2\n",
            "Cartesian coordinates (Angstrom)\n",
            " Atom        New coordinates             dX        dY        dZ\n",
            "   C  -0.482906  -0.392429   0.237583    0.024995 -0.039443 -0.001740\n",
            "   C   0.517082   0.356611  -0.243142    0.019212 -0.023880 -0.002437\n",
            "   H  -0.464085  -1.473813   0.422400   -0.146463 -0.058650  0.061348\n",
            "   H  -1.433878   0.093790   0.482668    0.038826  0.020670 -0.017206\n",
            "   H   1.509558  -0.016491  -0.522686    0.089732  0.118892 -0.052255\n",
            "   H   0.354244   1.432342  -0.376817   -0.026287 -0.017579  0.012296\n",
            "converged SCF energy = -77.6213283262539\n",
            "--------------- RKS_Scanner gradients ---------------\n",
            "         x                y                z\n",
            "0 C    -0.0013848689    -0.0067486681     0.0016812605\n",
            "1 C     0.0070999331     0.0045012892    -0.0032734261\n",
            "2 H    -0.0062237666    -0.0001882853     0.0022007820\n",
            "3 H     0.0024060741     0.0007866560    -0.0009763258\n",
            "4 H     0.0007483090     0.0030592521    -0.0008023276\n",
            "5 H    -0.0026460967    -0.0014091950     0.0011697709\n",
            "----------------------------------------------\n",
            "cycle 2: E = -77.6213283263  dE = -0.00169361  norm(grad) = 0.0142678\n"
          ]
        },
        {
          "output_type": "stream",
          "name": "stderr",
          "text": [
            "Step    1 : Displace = \u001b[0m1.001e-01\u001b[0m/\u001b[0m1.693e-01\u001b[0m (rms/max) Trust = 1.000e-01 (=) Grad = \u001b[0m5.825e-03\u001b[0m/\u001b[0m9.021e-03\u001b[0m (rms/max) E (change) = -77.6213283263 (\u001b[0m-1.694e-03\u001b[0m) Quality = \u001b[0m0.352\u001b[0m\n",
            "Hessian Eigenvalues: 2.30000e-02 2.78828e-02 2.80809e-02 ... 3.55722e-01 3.78815e-01 6.09906e-01\n"
          ]
        },
        {
          "output_type": "stream",
          "name": "stdout",
          "text": [
            "\n",
            "Geometry optimization cycle 3\n",
            "Cartesian coordinates (Angstrom)\n",
            " Atom        New coordinates             dX        dY        dZ\n",
            "   C  -0.500369  -0.371342   0.239888   -0.017462  0.021087  0.002305\n",
            "   C   0.501872   0.367571  -0.239735   -0.015210  0.010960  0.003407\n",
            "   H  -0.400339  -1.454167   0.396668    0.063745  0.019646 -0.025731\n",
            "   H  -1.473366   0.068865   0.500767   -0.039487 -0.024925  0.018099\n",
            "   H   1.478898  -0.061277  -0.504025   -0.030660 -0.044786  0.018661\n",
            "   H   0.393342   1.450322  -0.393544    0.039099  0.017980 -0.016727\n",
            "converged SCF energy = -77.622403271069\n",
            "--------------- RKS_Scanner gradients ---------------\n",
            "         x                y                z\n",
            "0 C    -0.0012582010     0.0000937080     0.0004220945\n",
            "1 C     0.0012978599    -0.0010272868    -0.0002705985\n",
            "2 H     0.0005662492    -0.0011421036     0.0000067094\n",
            "3 H    -0.0015276125     0.0009932762     0.0003577414\n",
            "4 H     0.0017803420    -0.0001846615    -0.0005888284\n",
            "5 H    -0.0008586512     0.0012672343     0.0000728224\n",
            "----------------------------------------------\n",
            "cycle 3: E = -77.6224032711  dE = -0.00107494  norm(grad) = 0.003944\n"
          ]
        },
        {
          "output_type": "stream",
          "name": "stderr",
          "text": [
            "Step    2 : Displace = \u001b[0m4.859e-02\u001b[0m/\u001b[0m7.142e-02\u001b[0m (rms/max) Trust = 1.000e-01 (=) Grad = \u001b[0m1.610e-03\u001b[0m/\u001b[0m1.884e-03\u001b[0m (rms/max) E (change) = -77.6224032711 (\u001b[0m-1.075e-03\u001b[0m) Quality = \u001b[0m1.036\u001b[0m\n",
            "Hessian Eigenvalues: 2.30000e-02 2.78828e-02 2.80809e-02 ... 3.56614e-01 3.88870e-01 5.88497e-01\n"
          ]
        },
        {
          "output_type": "stream",
          "name": "stdout",
          "text": [
            "\n",
            "Geometry optimization cycle 4\n",
            "Cartesian coordinates (Angstrom)\n",
            " Atom        New coordinates             dX        dY        dZ\n",
            "   C  -0.496652  -0.371614   0.238601    0.003717 -0.000272 -0.001287\n",
            "   C   0.497746   0.375297  -0.239622   -0.004126  0.007726  0.000113\n",
            "   H  -0.397897  -1.452748   0.395487    0.002442  0.001418 -0.001181\n",
            "   H  -1.469389   0.061581   0.500595    0.003977 -0.007284 -0.000172\n",
            "   H   1.466332  -0.069130  -0.498184   -0.012565 -0.007853  0.005841\n",
            "   H   0.399900   1.456576  -0.396853    0.006558  0.006254 -0.003309\n",
            "converged SCF energy = -77.6223948096459\n",
            "--------------- RKS_Scanner gradients ---------------\n",
            "         x                y                z\n",
            "0 C     0.0020428888    -0.0016716411    -0.0004147299\n",
            "1 C    -0.0010591646     0.0026675734    -0.0001037209\n",
            "2 H    -0.0007561852     0.0000090640     0.0002633061\n",
            "3 H     0.0006750634     0.0000551348    -0.0002430323\n",
            "4 H    -0.0010780673    -0.0012590976     0.0005964124\n",
            "5 H     0.0001754478     0.0001988010    -0.0000981485\n",
            "----------------------------------------------\n",
            "cycle 4: E = -77.6223948096  dE = 8.46142e-06  norm(grad) = 0.00444191\n"
          ]
        },
        {
          "output_type": "stream",
          "name": "stderr",
          "text": [
            "Step    3 : Displace = \u001b[0m9.284e-03\u001b[0m/\u001b[0m1.601e-02\u001b[0m (rms/max) Trust = 1.414e-01 (\u001b[92m+\u001b[0m) Grad = \u001b[0m1.813e-03\u001b[0m/\u001b[0m2.872e-03\u001b[0m (rms/max) E (change) = -77.6223948096 (\u001b[91m+8.461e-06\u001b[0m) Quality = \u001b[91m-0.166\u001b[0m\n",
            "Hessian Eigenvalues: 2.30000e-02 2.78828e-02 2.80809e-02 ... 3.74184e-01 4.66263e-01 5.93981e-01\n"
          ]
        },
        {
          "output_type": "stream",
          "name": "stdout",
          "text": [
            "\n",
            "Geometry optimization cycle 5\n",
            "Cartesian coordinates (Angstrom)\n",
            " Atom        New coordinates             dX        dY        dZ\n",
            "   C  -0.499402  -0.370428   0.239337   -0.002750  0.001186  0.000736\n",
            "   C   0.499197   0.370787  -0.239318    0.001451 -0.004510  0.000304\n",
            "   H  -0.398072  -1.451263   0.395263   -0.000175  0.001486 -0.000225\n",
            "   H  -1.472017   0.063269   0.501190   -0.002628  0.001688  0.000595\n",
            "   H   1.471412  -0.063981  -0.500842    0.005080  0.005149 -0.002657\n",
            "   H   0.398923   1.451579  -0.395606   -0.000978 -0.004997  0.001247\n",
            "converged SCF energy = -77.6224319381052\n",
            "--------------- RKS_Scanner gradients ---------------\n",
            "         x                y                z\n",
            "0 C    -0.0000268599    -0.0000399044     0.0000172126\n",
            "1 C     0.0000029898     0.0001526212    -0.0000288330\n",
            "2 H    -0.0000029058     0.0003322720    -0.0000560571\n",
            "3 H     0.0003538349    -0.0001418359    -0.0000963734\n",
            "4 H    -0.0003877672     0.0000872107     0.0001179983\n",
            "5 H     0.0000607104    -0.0003903794     0.0000460577\n",
            "----------------------------------------------\n",
            "cycle 5: E = -77.6224319381  dE = -3.71285e-05  norm(grad) = 0.000790569\n"
          ]
        },
        {
          "output_type": "stream",
          "name": "stderr",
          "text": [
            "Step    4 : Displace = \u001b[0m4.678e-03\u001b[0m/\u001b[0m7.731e-03\u001b[0m (rms/max) Trust = 4.642e-03 (\u001b[91m-\u001b[0m) Grad = \u001b[0m3.227e-04\u001b[0m/\u001b[92m4.146e-04\u001b[0m (rms/max) E (change) = -77.6224319381 (\u001b[0m-3.713e-05\u001b[0m) Quality = \u001b[0m0.920\u001b[0m\n",
            "Hessian Eigenvalues: 2.30000e-02 2.78828e-02 2.80809e-02 ... 3.78100e-01 4.87597e-01 5.80351e-01\n"
          ]
        },
        {
          "output_type": "stream",
          "name": "stdout",
          "text": [
            "\n",
            "Geometry optimization cycle 6\n",
            "Cartesian coordinates (Angstrom)\n",
            " Atom        New coordinates             dX        dY        dZ\n",
            "   C  -0.499444  -0.370729   0.239368   -0.000042 -0.000301  0.000031\n",
            "   C   0.499563   0.370589  -0.239375    0.000366 -0.000197 -0.000056\n",
            "   H  -0.398766  -1.452200   0.395600   -0.000694 -0.000937  0.000337\n",
            "   H  -1.472532   0.063727   0.501220   -0.000516  0.000458  0.000031\n",
            "   H   1.472781  -0.063504  -0.501335    0.001368  0.000477 -0.000494\n",
            "   H   0.398440   1.452080  -0.395456   -0.000483  0.000501  0.000150\n",
            "converged SCF energy = -77.6224326625345\n",
            "--------------- RKS_Scanner gradients ---------------\n",
            "         x                y                z\n",
            "0 C     0.0000024945    -0.0000506040     0.0000090426\n",
            "1 C     0.0000212152     0.0000079131    -0.0000097456\n",
            "2 H     0.0000036287    -0.0001413121     0.0000254305\n",
            "3 H    -0.0001498247     0.0000839779     0.0000389227\n",
            "4 H     0.0001562342    -0.0000688034    -0.0000437539\n",
            "5 H    -0.0000337490     0.0001688339    -0.0000198978\n",
            "----------------------------------------------\n",
            "cycle 6: E = -77.6224326625  dE = -7.24429e-07  norm(grad) = 0.000340584\n"
          ]
        },
        {
          "output_type": "stream",
          "name": "stderr",
          "text": [
            "Step    5 : Displace = \u001b[92m9.164e-04\u001b[0m/\u001b[92m1.512e-03\u001b[0m (rms/max) Trust = 6.565e-03 (\u001b[92m+\u001b[0m) Grad = \u001b[92m1.390e-04\u001b[0m/\u001b[92m1.762e-04\u001b[0m (rms/max) E (change) = -77.6224326625 (\u001b[92m-7.244e-07\u001b[0m) Quality = \u001b[0m0.565\u001b[0m\n",
            "Hessian Eigenvalues: 2.30000e-02 2.78828e-02 2.80809e-02 ... 3.78100e-01 4.87597e-01 5.80351e-01\n",
            "Converged! =D\n",
            "\n",
            "    #==========================================================================#\n",
            "    #| If this code has benefited your research, please support us by citing: |#\n",
            "    #|                                                                        |#\n",
            "    #| Wang, L.-P.; Song, C.C. (2016) \"Geometry optimization made simple with |#\n",
            "    #| translation and rotation coordinates\", J. Chem, Phys. 144, 214108.     |#\n",
            "    #| http://dx.doi.org/10.1063/1.4952956                                    |#\n",
            "    #==========================================================================#\n",
            "    Time elapsed since start of run_optimizer: 13.531 seconds\n"
          ]
        },
        {
          "output_type": "execute_result",
          "data": {
            "text/plain": [
              "'6\\nXYZ from PySCF\\nC          -0.49944402       -0.37072942        0.23936801\\nC           0.49956274        0.37058949       -0.23937471\\nH          -0.39876605       -1.45219956        0.39559970\\nH          -1.47253236        0.06372741        0.50122041\\nH           1.47278052       -0.06350448       -0.50133543\\nH           0.39843969        1.45207982       -0.39545591'"
            ],
            "application/vnd.google.colaboratory.intrinsic+json": {
              "type": "string"
            }
          },
          "metadata": {},
          "execution_count": 4
        }
      ]
    },
    {
      "cell_type": "markdown",
      "source": [],
      "metadata": {
        "id": "_koRefjznK9x"
      }
    },
    {
      "cell_type": "code",
      "source": [
        "from pyscf import gto, scf\n",
        "\n",
        "# create the pyscf molecule\n",
        "mol = gto.Mole()\n",
        "mol.atom=\"opt_ethylene.xyz\"\n",
        "# set basis set\n",
        "mol.basis = \"sto-3g\"\n",
        "mol.build()\n",
        "\n",
        "# set DFT functional\n",
        "mf = dft.RKS(mol)\n",
        "mf.xc = 'B3LYP'\n",
        "\n",
        "mf.kernel()\n",
        "\n",
        "print(\"MO Energies (in Hartree):\")\n",
        "print(mf.mo_energy)\n",
        "\n",
        "mo_energies = mf.mo_energy\n",
        "\n",
        "# Get number of electrons to find HOMO\n",
        "nelec = mol.nelectron\n",
        "homo_index = nelec // 2 - 1\n",
        "lumo_index = homo_index + 1\n",
        "\n",
        "# HOMO and LUMO energies\n",
        "homo_energy = mo_energies[homo_index]\n",
        "lumo_energy = mo_energies[lumo_index]\n",
        "\n",
        "# Energy gap in Hartree\n",
        "gap_hartree = lumo_energy - homo_energy\n",
        "\n",
        "# Convert to electronvolts (1 Hartree = 27.2114 eV)\n",
        "gap_ev = gap_hartree * 27.2114\n",
        "\n",
        "print(f\"HOMO energy: {homo_energy:.6f} Ha\")\n",
        "print(f\"LUMO energy: {lumo_energy:.6f} Ha\")\n",
        "print(f\"Energy gap: {gap_ev:.2f} eV\")\n"
      ],
      "metadata": {
        "colab": {
          "base_uri": "https://localhost:8080/"
        },
        "id": "-J1QuRorrFE2",
        "outputId": "7631a787-8298-4315-8d7a-bba5c1db4ce5"
      },
      "execution_count": null,
      "outputs": [
        {
          "output_type": "stream",
          "name": "stdout",
          "text": [
            "converged SCF energy = -77.6224326625315\n",
            "MO Energies (in Hartree):\n",
            "[-9.99313548 -9.9928356  -0.71536559 -0.54068961 -0.42944236 -0.37611647\n",
            " -0.31544065 -0.21542735  0.11737523  0.37471099  0.43266511  0.43278883\n",
            "  0.63097431  0.69168027]\n",
            "HOMO energy: -0.215427 Ha\n",
            "LUMO energy: 0.117375 Ha\n",
            "Energy gap: 9.06 eV\n"
          ]
        }
      ]
    },
    {
      "cell_type": "code",
      "source": [
        "from pyscf import gto, scf\n",
        "\n",
        "# create the pyscf molecule\n",
        "mol = gto.Mole()\n",
        "mol.atom=\"opt_butadiene.xyz\"\n",
        "# set basis set\n",
        "mol.basis = \"sto-3g\"\n",
        "mol.build()\n",
        "\n",
        "# set DFT functional\n",
        "mf = dft.RKS(mol)\n",
        "mf.xc = 'B3LYP'\n",
        "\n",
        "mf.kernel()\n",
        "\n",
        "print(\"MO Energies (in Hartree):\")\n",
        "print(mf.mo_energy)\n",
        "\n",
        "mo_energies = mf.mo_energy\n",
        "\n",
        "# Get number of electrons to find HOMO\n",
        "nelec = mol.nelectron\n",
        "homo_index = nelec // 2 - 1\n",
        "lumo_index = homo_index + 1\n",
        "\n",
        "# HOMO and LUMO energies\n",
        "homo_energy = mo_energies[homo_index]\n",
        "lumo_energy = mo_energies[lumo_index]\n",
        "\n",
        "# Energy gap in Hartree\n",
        "gap_hartree = lumo_energy - homo_energy\n",
        "\n",
        "# Convert to electronvolts (1 Hartree = 27.2114 eV)\n",
        "gap_ev = gap_hartree * 27.2114\n",
        "\n",
        "print(f\"HOMO energy: {homo_energy:.6f} Ha\")\n",
        "print(f\"LUMO energy: {lumo_energy:.6f} Ha\")\n",
        "print(f\"Energy gap: {gap_ev:.2f} eV\")"
      ],
      "metadata": {
        "colab": {
          "base_uri": "https://localhost:8080/"
        },
        "id": "FLpkFvZ7xMwt",
        "outputId": "ec4c8b70-2053-49fa-af62-8a7e23c3ce43"
      },
      "execution_count": null,
      "outputs": [
        {
          "output_type": "stream",
          "name": "stdout",
          "text": [
            "converged SCF energy = -154.07611211058\n",
            "MO Energies (in Hartree):\n",
            "[-10.00709395 -10.00614588  -9.99118237  -9.99115957  -0.75473063\n",
            "  -0.68830499  -0.55971699  -0.51198206  -0.42249802  -0.41912935\n",
            "  -0.34707588  -0.34656165  -0.29936859  -0.2667548   -0.17346703\n",
            "   0.06458651   0.18910267   0.34330324   0.41256011   0.41740494\n",
            "   0.42883867   0.4373107    0.57791912   0.61255643   0.68474956\n",
            "   0.7504684 ]\n",
            "HOMO energy: -0.173467 Ha\n",
            "LUMO energy: 0.064587 Ha\n",
            "Energy gap: 6.48 eV\n"
          ]
        }
      ]
    },
    {
      "cell_type": "code",
      "source": [
        "from pyscf import gto, scf\n",
        "\n",
        "# create the pyscf molecule\n",
        "mol = gto.Mole()\n",
        "mol.atom=\"opt_octaene.xyz\"\n",
        "# set basis set\n",
        "mol.basis = \"sto-3g\"\n",
        "mol.build()\n",
        "\n",
        "# set DFT functional\n",
        "mf = dft.RKS(mol)\n",
        "mf.xc = 'B3LYP'\n",
        "\n",
        "mf.kernel()\n",
        "\n",
        "print(\"MO Energies (in Hartree):\")\n",
        "print(mf.mo_energy)\n",
        "\n",
        "mo_energies = mf.mo_energy\n",
        "\n",
        "# Get number of electrons to find HOMO\n",
        "nelec = mol.nelectron\n",
        "homo_index = nelec // 2 - 1\n",
        "lumo_index = homo_index + 1\n",
        "\n",
        "# HOMO and LUMO energies\n",
        "homo_energy = mo_energies[homo_index]\n",
        "lumo_energy = mo_energies[lumo_index]\n",
        "\n",
        "# Energy gap in Hartree\n",
        "gap_hartree = lumo_energy - homo_energy\n",
        "\n",
        "# Convert to electronvolts (1 Hartree = 27.2114 eV)\n",
        "gap_ev = gap_hartree * 27.2114\n",
        "\n",
        "print(f\"HOMO energy: {homo_energy:.6f} Ha\")\n",
        "print(f\"LUMO energy: {lumo_energy:.6f} Ha\")\n",
        "print(f\"Energy gap: {gap_ev:.2f} eV\")\n"
      ],
      "metadata": {
        "colab": {
          "base_uri": "https://localhost:8080/"
        },
        "id": "pgKRtGUdx-_j",
        "outputId": "68045629-5b49-4d12-ee83-cb6cd595e760"
      },
      "execution_count": null,
      "outputs": [
        {
          "output_type": "stream",
          "name": "stdout",
          "text": [
            "converged SCF energy = -345.841388112154\n",
            "MO Energies (in Hartree):\n",
            "[-10.01772386 -10.0056388  -10.00338071 -10.00237772 -10.00204453\n",
            " -10.00137679 -10.00095597  -9.99920011  -9.98883399  -0.77224453\n",
            "  -0.75273928  -0.72239807  -0.68180562  -0.63799308  -0.56672527\n",
            "  -0.52946105  -0.51312256  -0.49287968  -0.43711477  -0.41945925\n",
            "  -0.39848736  -0.37946392  -0.37841992  -0.36240624  -0.33945148\n",
            "  -0.32732913  -0.32427487  -0.3045093   -0.28680551  -0.28445665\n",
            "  -0.25160121  -0.19786824  -0.13338767   0.02718283   0.10452569\n",
            "   0.17626413   0.22835553   0.32141      0.35635836   0.40245107\n",
            "   0.40263288   0.40618297   0.42163065   0.43161631   0.43468171\n",
            "   0.44155522   0.44928063   0.45992486   0.47615855   0.54876614\n",
            "   0.5721838    0.5983756    0.63320235   0.67367117   0.71666154\n",
            "   0.74368329   0.78249712]\n",
            "HOMO energy: -0.133388 Ha\n",
            "LUMO energy: 0.027183 Ha\n",
            "Energy gap: 4.37 eV\n"
          ]
        }
      ]
    },
    {
      "cell_type": "code",
      "source": [
        "from pyscf import gto, scf\n",
        "\n",
        "# create the pyscf molecule\n",
        "mol = gto.Mole()\n",
        "mol.atom=\"opt_tetrakaidecaene.xyz\"\n",
        "# set basis set\n",
        "mol.basis = \"sto-3g\"\n",
        "mol.build()\n",
        "\n",
        "# set DFT functional\n",
        "mf = dft.RKS(mol)\n",
        "mf.xc = 'B3LYP'\n",
        "\n",
        "mf.kernel()\n",
        "\n",
        "print(\"MO Energies (in Hartree):\")\n",
        "print(mf.mo_energy)\n",
        "\n",
        "mo_energies = mf.mo_energy\n",
        "\n",
        "# Get number of electrons to find HOMO\n",
        "nelec = mol.nelectron\n",
        "homo_index = nelec // 2 - 1\n",
        "lumo_index = homo_index + 1\n",
        "\n",
        "# HOMO and LUMO energies\n",
        "homo_energy = mo_energies[homo_index]\n",
        "lumo_energy = mo_energies[lumo_index]\n",
        "\n",
        "# Energy gap in Hartree\n",
        "gap_hartree = lumo_energy - homo_energy\n",
        "\n",
        "# Convert to electronvolts (1 Hartree = 27.2114 eV)\n",
        "gap_ev = gap_hartree * 27.2114\n",
        "\n",
        "print(f\"HOMO energy: {homo_energy:.6f} Ha\")\n",
        "print(f\"LUMO energy: {lumo_energy:.6f} Ha\")\n",
        "print(f\"Energy gap: {gap_ev:.2f} eV\")\n"
      ],
      "metadata": {
        "colab": {
          "base_uri": "https://localhost:8080/"
        },
        "id": "imVkkayj0VLP",
        "outputId": "408c94ca-51fc-46b5-eefd-c224bd6af0f2"
      },
      "execution_count": null,
      "outputs": [
        {
          "output_type": "stream",
          "name": "stdout",
          "text": [
            "converged SCF energy = -1071.55904661511\n",
            "MO Energies (in Hartree):\n",
            "[-1.00085403e+01 -1.00085397e+01 -1.00080891e+01 -1.00080487e+01\n",
            " -1.00080003e+01 -1.00079463e+01 -1.00078865e+01 -1.00078214e+01\n",
            " -1.00077531e+01 -1.00076847e+01 -1.00076185e+01 -1.00075601e+01\n",
            " -1.00075394e+01 -1.00071960e+01 -1.00071272e+01 -1.00070505e+01\n",
            " -1.00069722e+01 -1.00068948e+01 -1.00068212e+01 -1.00067544e+01\n",
            " -1.00066975e+01 -1.00066546e+01 -1.00066023e+01 -1.00065995e+01\n",
            " -1.00059866e+01 -1.00059839e+01 -9.99188139e+00 -9.99188042e+00\n",
            " -7.82802766e-01 -7.80297347e-01 -7.76281652e-01 -7.70772995e-01\n",
            " -7.63784837e-01 -7.55340201e-01 -7.45465838e-01 -7.34194870e-01\n",
            " -7.21572530e-01 -7.07663778e-01 -6.92570080e-01 -6.76476030e-01\n",
            " -6.59831579e-01 -6.44347551e-01 -6.03524888e-01 -5.86509404e-01\n",
            " -5.66783824e-01 -5.46489253e-01 -5.28286716e-01 -5.27563618e-01\n",
            " -5.25885964e-01 -5.22864759e-01 -5.18231929e-01 -5.14023926e-01\n",
            " -5.10347432e-01 -5.07789199e-01 -5.02528168e-01 -5.02231242e-01\n",
            " -4.42695824e-01 -4.39758876e-01 -4.36624059e-01 -4.31023035e-01\n",
            " -4.22325592e-01 -4.20101086e-01 -4.08112465e-01 -4.03623346e-01\n",
            " -3.96161758e-01 -3.84309421e-01 -3.78839261e-01 -3.70286245e-01\n",
            " -3.62198527e-01 -3.58253041e-01 -3.47271355e-01 -3.46361779e-01\n",
            " -3.37428427e-01 -3.34110808e-01 -3.29095213e-01 -3.25534901e-01\n",
            " -3.22804797e-01 -3.20478804e-01 -3.18039311e-01 -3.13871405e-01\n",
            " -3.10208068e-01 -3.06278689e-01 -3.02871755e-01 -3.01267202e-01\n",
            " -2.99365472e-01 -2.95970687e-01 -2.93681809e-01 -2.92928542e-01\n",
            " -2.85831044e-01 -2.75821689e-01 -2.63671553e-01 -2.49404551e-01\n",
            " -2.33057710e-01 -2.14693622e-01 -1.94420953e-01 -1.72438200e-01\n",
            " -1.49146450e-01 -1.25508988e-01 -1.04399274e-01 -1.57886067e-02\n",
            "  7.12394620e-03  3.36564872e-02  6.09230507e-02  8.77923924e-02\n",
            "  1.13622118e-01  1.37931636e-01  1.60312459e-01  1.80405501e-01\n",
            "  1.97898756e-01  2.12532085e-01  2.24102822e-01  2.32460611e-01\n",
            "  2.37520087e-01  3.04143089e-01  3.11989720e-01  3.24672258e-01\n",
            "  3.40330322e-01  3.56911108e-01  3.72755524e-01  3.86972807e-01\n",
            "  3.99255209e-01  4.07908868e-01  4.10543083e-01  4.10896972e-01\n",
            "  4.16749421e-01  4.18921290e-01  4.24063480e-01  4.26234873e-01\n",
            "  4.27874595e-01  4.28301046e-01  4.28747673e-01  4.30000110e-01\n",
            "  4.30396613e-01  4.31512847e-01  4.31888690e-01  4.32690339e-01\n",
            "  4.34512895e-01  4.34605305e-01  4.35158499e-01  4.35960399e-01\n",
            "  4.38784209e-01  4.40887953e-01  5.09562380e-01  5.09852732e-01\n",
            "  5.23961942e-01  5.25463876e-01  5.42519078e-01  5.45925650e-01\n",
            "  5.61159074e-01  5.73344290e-01  5.91172790e-01  5.96187224e-01\n",
            "  6.14725071e-01  6.20971199e-01  6.38022357e-01  6.45485650e-01\n",
            "  6.60025516e-01  6.68670469e-01  6.80058375e-01  6.89041403e-01\n",
            "  6.97923119e-01  7.03587370e-01  7.14855255e-01  7.31230029e-01\n",
            "  7.45693048e-01  7.57607666e-01  7.66589369e-01  7.72418536e-01\n",
            "  7.75481213e-01  7.75668709e-01]\n",
            "HOMO energy: -0.104399 Ha\n",
            "LUMO energy: -0.015789 Ha\n",
            "Energy gap: 2.41 eV\n"
          ]
        }
      ]
    },
    {
      "cell_type": "code",
      "source": [
        "from pyscf import gto, scf\n",
        "\n",
        "# create the pyscf molecule\n",
        "mol = gto.Mole()\n",
        "mol.atom=\"b_carotene.xyz\"\n",
        "# set basis set\n",
        "mol.basis = \"sto-3g\"\n",
        "mol.build()\n",
        "\n",
        "# set DFT functional\n",
        "mf = dft.RKS(mol)\n",
        "mf.xc = 'B3LYP'\n",
        "\n",
        "mf.kernel()\n",
        "\n",
        "print(\"MO Energies (in Hartree):\")\n",
        "print(mf.mo_energy)\n",
        "\n",
        "mo_energies = mf.mo_energy\n",
        "\n",
        "# Get number of electrons to find HOMO\n",
        "nelec = mol.nelectron\n",
        "homo_index = nelec // 2 - 1\n",
        "lumo_index = homo_index + 1\n",
        "\n",
        "# HOMO and LUMO energies\n",
        "homo_energy = mo_energies[homo_index]\n",
        "lumo_energy = mo_energies[lumo_index]\n",
        "\n",
        "# Energy gap in Hartree\n",
        "gap_hartree = lumo_energy - homo_energy\n",
        "\n",
        "# Convert to electronvolts (1 Hartree = 27.2114 eV)\n",
        "gap_ev = gap_hartree * 27.2114\n",
        "\n",
        "print(f\"HOMO energy: {homo_energy:.6f} Ha\")\n",
        "print(f\"LUMO energy: {lumo_energy:.6f} Ha\")\n",
        "print(f\"Energy gap: {gap_ev:.2f} eV\")"
      ],
      "metadata": {
        "colab": {
          "base_uri": "https://localhost:8080/"
        },
        "id": "r0Zulqg1YSfw",
        "outputId": "2820ba4e-a047-46d0-fce4-40c552bd7bf0"
      },
      "execution_count": null,
      "outputs": [
        {
          "output_type": "stream",
          "name": "stderr",
          "text": [
            "/usr/local/lib/python3.11/dist-packages/pyscf/dft/libxc.py:511: UserWarning: Since PySCF-2.3, B3LYP (and B3P86) are changed to the VWN-RPA variant, corresponding to the original definition by Stephens et al. (issue 1480) and the same as the B3LYP functional in Gaussian. To restore the VWN5 definition, you can put the setting \"B3LYP_WITH_VWN5 = True\" in pyscf_conf.py\n",
            "  warnings.warn('Since PySCF-2.3, B3LYP (and B3P86) are changed to the VWN-RPA variant, '\n"
          ]
        },
        {
          "output_type": "stream",
          "name": "stdout",
          "text": [
            "converged SCF energy = -1468.15114444407\n",
            "MO Energies (in Hartree):\n",
            "[-10.52561033 -10.52560484 -10.50072431 -10.50069992 -10.34618565\n",
            " -10.34618318 -10.32563238 -10.32556785 -10.31418242 -10.31418048\n",
            " -10.23967127 -10.2396408  -10.22448618 -10.2244674  -10.20975507\n",
            " -10.20975481 -10.13217685 -10.13217385 -10.10157322 -10.10152371\n",
            " -10.08100177 -10.08099512 -10.06891006 -10.06888939 -10.05415661\n",
            " -10.05414427 -10.04761679 -10.04761427  -9.99908294  -9.99905951\n",
            "  -9.99872842  -9.9987277   -9.98700328  -9.97526316  -9.96810802\n",
            "  -9.96810087  -9.9638234   -9.96379358  -9.9497473   -9.94881081\n",
            "  -2.05148937  -2.0514858   -1.48312165  -1.48311392  -1.39412685\n",
            "  -1.39410112  -1.3808342   -1.3808266   -1.29776198  -1.29775196\n",
            "  -1.2671275   -1.26710086  -1.19942051  -1.19940045  -1.12488274\n",
            "  -1.12487167  -1.11388269  -1.11381931  -1.08988876  -1.08821324\n",
            "  -1.07850508  -1.07673259  -0.98632894  -0.97923584  -0.94581415\n",
            "  -0.92889052  -0.90603571  -0.90600925  -0.8808654   -0.87992131\n",
            "  -0.85902436  -0.84712722  -0.8366182   -0.83661628  -0.82955475\n",
            "  -0.82666175  -0.8166669   -0.81663928  -0.79936842  -0.75957853\n",
            "  -0.75772772  -0.75493184  -0.75090609  -0.73514815  -0.73504974\n",
            "  -0.71829289  -0.71553278  -0.70868254  -0.70554022  -0.70552824\n",
            "  -0.70024477  -0.69631994  -0.69533954  -0.69240901  -0.69160338\n",
            "  -0.67958048  -0.61664459  -0.60589757  -0.6058943   -0.60339568\n",
            "  -0.59704022  -0.59421138  -0.5695533   -0.55625183  -0.55090982\n",
            "  -0.55011366  -0.54138832  -0.53764988  -0.53561695  -0.53343629\n",
            "  -0.51980694  -0.51047017  -0.49549152  -0.48365429  -0.46868166\n",
            "  -0.43348822  -0.43244113  -0.43012841  -0.42929057  -0.42559067\n",
            "  -0.39476945  -0.38286102  -0.38030386  -0.37758123  -0.37029003\n",
            "  -0.36994655  -0.36426438  -0.3580999   -0.34631245  -0.34128614\n",
            "  -0.32410745  -0.31229143  -0.29559477  -0.26398126  -0.25763066\n",
            "  -0.25195347  -0.20570664  -0.20568269  -0.17043485  -0.17022187\n",
            "  -0.16533583  -0.12181311  -0.11568823  -0.0433426   -0.01775564\n",
            "   0.03068679   0.05943596   0.05944303   0.10193766   0.13405864\n",
            "   0.14023327   0.15842477   0.22783279   0.22783784   0.23067282\n",
            "   0.2599628    0.25998662   0.30146785   0.33850772   0.33862095\n",
            "   0.39265785   0.43292962   0.44137191   0.45487859   0.46976599\n",
            "   0.49898814   0.51432735   0.52320544   0.5234218    0.56917805\n",
            "   0.57846897   0.5943045    0.60637452   0.66636423   0.66639373\n",
            "   0.90603874   0.92491566   0.94898028   0.97272062   0.97546057\n",
            "   1.02596163   1.05414411   1.09359394   1.13270417   1.13318816\n",
            "   1.15554164   1.15667256   1.15976308   1.16414473   1.1848715\n",
            "   1.19742178   1.20729299   1.23310362   1.24012668   1.26360462\n",
            "   1.27554169   1.31419502   1.33615553   1.36213954   1.36691851\n",
            "   1.38120454   1.40823138   1.42454117   1.42496091   1.49643727\n",
            "   1.50470037   1.5195093    1.53194573   1.57283937   1.61435926\n",
            "   1.62132839   1.6427881    1.69378912   1.70440536   1.71014486\n",
            "   1.72767914   1.74346824   1.76113204   1.76630271   1.7809902\n",
            "   1.78204097   1.8038437    1.83080012   1.84433563   1.86679397\n",
            "   1.88555      1.90130429   1.91977394   1.93338487   1.94998027\n",
            "   1.9864804    2.00449316   2.01716507   2.06586643   2.10024544\n",
            "   2.1120134    2.11648866   2.12718282   2.14610804   2.16565706\n",
            "   2.32080468   2.32083063   2.50908379   2.51927467   2.56685011\n",
            "   2.57157042   2.67179103   2.67945655   2.86407801   2.8641092\n",
            "   3.02992125   3.03008361   3.7028069    3.70281419   6.30709709\n",
            "   6.30730281]\n",
            "HOMO energy: 0.059443 Ha\n",
            "LUMO energy: 0.101938 Ha\n",
            "Energy gap: 1.16 eV\n"
          ]
        }
      ]
    },
    {
      "cell_type": "code",
      "execution_count": null,
      "metadata": {
        "colab": {
          "base_uri": "https://localhost:8080/"
        },
        "collapsed": true,
        "id": "Nc3SNYHYubPy",
        "outputId": "8367968c-11a2-43b0-8285-cc0600e223f9"
      },
      "outputs": [
        {
          "metadata": {
            "tags": null
          },
          "name": "stdout",
          "output_type": "stream",
          "text": [
            "******** <class 'pyscf.solvent.ddcosmo.ddCOSMO'> ********\n",
            "lebedev_order = 17 (110 grids per sphere)\n",
            "lmax = 6\n",
            "eta = 0.1\n",
            "eps = 46.826\n",
            "frozen = False\n",
            "equilibrium_solvation = False\n",
            "\n",
            "WARN: Singularity detected in overlap matrix (condition number = 1.07e+09). SCF may be inaccurate and hard to converge.\n",
            "\n"
          ]
        },
        {
          "metadata": {
            "tags": null
          },
          "name": "stderr",
          "output_type": "stream",
          "text": [
            "/usr/local/lib/python3.11/dist-packages/pyscf/dft/libxc.py:511: UserWarning: Since PySCF-2.3, B3LYP (and B3P86) are changed to the VWN-RPA variant, corresponding to the original definition by Stephens et al. (issue 1480) and the same as the B3LYP functional in Gaussian. To restore the VWN5 definition, you can put the setting \"B3LYP_WITH_VWN5 = True\" in pyscf_conf.py\n",
            "  warnings.warn('Since PySCF-2.3, B3LYP (and B3P86) are changed to the VWN-RPA variant, '\n"
          ]
        },
        {
          "output_type": "stream",
          "name": "stdout",
          "text": [
            "<class 'pyscf.solvent.ddcosmo.ddCOSMO'> E_diel = -0.000272866502412763\n",
            "<class 'pyscf.solvent.ddcosmo.ddCOSMO'> E_diel = -0.033247834610533\n",
            "<class 'pyscf.solvent.ddcosmo.ddCOSMO'> E_diel = -0.0309992881199084\n",
            "<class 'pyscf.solvent.ddcosmo.ddCOSMO'> E_diel = -0.0157156987108706\n",
            "<class 'pyscf.solvent.ddcosmo.ddCOSMO'> E_diel = -0.0136173914924189\n",
            "<class 'pyscf.solvent.ddcosmo.ddCOSMO'> E_diel = -0.0137076189481648\n",
            "<class 'pyscf.solvent.ddcosmo.ddCOSMO'> E_diel = -0.0136398435144064\n",
            "<class 'pyscf.solvent.ddcosmo.ddCOSMO'> E_diel = -0.013641194294656\n",
            "<class 'pyscf.solvent.ddcosmo.ddCOSMO'> E_diel = -0.0136588792104953\n",
            "<class 'pyscf.solvent.ddcosmo.ddCOSMO'> E_diel = -0.0136584224458949\n",
            "<class 'pyscf.solvent.ddcosmo.ddCOSMO'> E_diel = -0.0136596004366227\n",
            "<class 'pyscf.solvent.ddcosmo.ddCOSMO'> E_diel = -0.0136594176872812\n",
            "<class 'pyscf.solvent.ddcosmo.ddCOSMO'> E_diel = -0.0136594840867415\n",
            "converged SCF energy = -875.74324014911\n",
            "******** <class 'pyscf.solvent.ddcosmo.ddCOSMO'> ********\n",
            "lebedev_order = 17 (110 grids per sphere)\n",
            "lmax = 6\n",
            "eta = 0.1\n",
            "eps = 1.78\n",
            "frozen = False\n",
            "equilibrium_solvation = None\n",
            "Excited State energies (eV)\n",
            "[2.11262484 2.62609292 2.97179323 3.47847946 3.58654778 3.70692396\n",
            " 3.87828843 4.00972613 4.48387164 4.53789317]\n",
            "\n",
            "** Singlet excitation energies and oscillator strengths **\n",
            "Excited State   1:      2.11262 eV    586.87 nm  f=0.3318\n",
            "Excited State   2:      2.62609 eV    472.12 nm  f=0.0000\n",
            "Excited State   3:      2.97179 eV    417.20 nm  f=0.0000\n",
            "Excited State   4:      3.47848 eV    356.43 nm  f=0.0000\n",
            "Excited State   5:      3.58655 eV    345.69 nm  f=0.0000\n",
            "Excited State   6:      3.70692 eV    334.47 nm  f=0.3839\n",
            "Excited State   7:      3.87829 eV    319.69 nm  f=0.0000\n",
            "Excited State   8:      4.00973 eV    309.21 nm  f=0.0640\n",
            "Excited State   9:      4.48387 eV    276.51 nm  f=0.2288\n",
            "Excited State  10:      4.53789 eV    273.22 nm  f=0.5984\n",
            "Maximum absorption at 586.51 nm with intensity 1.000 au\n"
          ]
        },
        {
          "output_type": "display_data",
          "data": {
            "text/plain": [
              "<Figure size 640x480 with 1 Axes>"
            ],
            "image/png": "[encoded data removed]"
          },
          "metadata": {}
        }
      ],
      "source": [
        "from pyscf import gto, scf, dft, tddft\n",
        "from pyscf.solvent import ddcosmo\n",
        "from pyscf import solvent\n",
        "\n",
        "mol = gto.Mole()\n",
        "mol.atom=\"opt.xyz\"\n",
        "# set basis set\n",
        "mol.basis = \"6-31+G(d,p)\"\n",
        "mol.build()\n",
        "\n",
        "# set DFT functional\n",
        "mf = dft.RKS(mol)\n",
        "mf.xc = 'B3LYP'\n",
        "\n",
        "\n",
        "# initialize the mf object in gas phase\n",
        "#mf.kernel()\n",
        "\n",
        "# initialize mf object in DMSO\n",
        "#mf = mf.DDCOSMO()\n",
        "#mf.with_solvent.eps = 35.688  # Acetonitrile\n",
        "#mf = mf.run()\n",
        "mf = solvent.ddCOSMO(mf)\n",
        "mf.with_solvent.eps = 46.826  # DMSO\n",
        "mf.with_solvent.verbose = 4\n",
        "mf.kernel()\n",
        "\n",
        "# setup the TDDFT\n",
        "td = tddft.TDDFT(mf)\n",
        "\n",
        "# set type and number of states required\n",
        "td.singlet = True\n",
        "td.nstates = 10\n",
        "\n",
        "# run TDDFT\n",
        "td.kernel()\n",
        "\n",
        "# analyze to show a table of excitations\n",
        "td.analyze()\n",
        "\n",
        "# helper function to plot absorption spectrum\n",
        "def plot_absorption(td_obj, step=0.01, sigma=0.05):\n",
        "    import scipy.constants as cst\n",
        "    import numpy as np\n",
        "    from scipy.stats import norm\n",
        "    import matplotlib.pyplot as plt\n",
        "\n",
        "    # get transitions can convert to eV\n",
        "    transitions =  td_obj.e * 27.2114\n",
        "\n",
        "    # get oscilator strengths\n",
        "    f = td_obj.oscillator_strength()\n",
        "\n",
        "    # get minimum and miximum x-values for plot\n",
        "    minval = min([val for val in transitions]) - 5.0 * sigma\n",
        "    #maxval = max([val for val in transitions]) + 5.0 * sigma\n",
        "    maxval = 3.3\n",
        "\n",
        "    # number of data points in line\n",
        "    npts = int((maxval - minval) / step) + 1\n",
        "\n",
        "    # generating the plot\n",
        "    eneval = np.linspace(minval, maxval, npts)  # in eV\n",
        "    lambdaval = [cst.h * cst.c / (val * cst.e) * 1.e9\n",
        "                 for val in eneval]  # in nm\n",
        "\n",
        "    # sum of gaussian functions\n",
        "    spectra = np.zeros(npts)\n",
        "    for i in range(len(transitions)):\n",
        "     spectra += f[i] * norm.pdf(eneval, transitions[i], sigma)\n",
        "    spectra /= spectra.max()\n",
        "\n",
        "    # plot the spectrum\n",
        "    plt.plot(lambdaval,spectra)\n",
        "    plt.xlabel(\"Wavelength (nm)\")\n",
        "    plt.ylabel(\"Absorption (au)\")\n",
        "\n",
        "    # Find max absorption\n",
        "    max_idx = np.argmax(spectra)\n",
        "    max_wavelength = lambdaval[max_idx]\n",
        "    max_intensity = spectra[max_idx]\n",
        "    print(f\"Maximum absorption at {max_wavelength:.2f} nm with intensity {max_intensity:.3f} au\")\n",
        "\n",
        "# plot the absorption from td\n",
        "plot_absorption(td)\n"
      ]
    },
    {
      "cell_type": "markdown",
      "metadata": {
        "id": "XqG5pTqjhF3K"
      },
      "source": [
        "We now have a spectrum whcih shows the stroingest transitions (or absorbtion lines) and the wavelength of the light corresponding to the maximum absorbtion. We can use this wavelength now to calculate the complemeatery wavelength, which will define the color our molecule apears to our eyes. In order to do so, we need to give the variable \"walwngth_nm\" the corresponding value."
      ]
    },
    {
      "cell_type": "code",
      "execution_count": null,
      "metadata": {
        "colab": {
          "base_uri": "https://localhost:8080/"
        },
        "id": "T62aT03uCjCE",
        "outputId": "1db8e67d-e504-41db-c93b-a751ded4b797"
      },
      "outputs": [
        {
          "output_type": "stream",
          "name": "stdout",
          "text": [
            "{'input_wavelength': 515, 'input_rgb': (31, 255, 0), 'complementary_rgb': (224, 0, 255), 'approx_complementary_wavelength': 410}\n"
          ]
        }
      ],
      "source": [
        "import colorsys\n",
        "import numpy as np\n",
        "\n",
        "wavelength_nm=\n",
        "\n",
        "def wavelength_to_rgb(wavelength_nm, gamma=0.8):\n",
        "    if wavelength_nm < 380 or wavelength_nm > 780:\n",
        "        return (0, 0, 0)\n",
        "\n",
        "    if wavelength_nm < 440:\n",
        "        R = -(wavelength_nm - 440) / (440 - 380)\n",
        "        G = 0.0\n",
        "        B = 1.0\n",
        "    elif wavelength_nm < 490:\n",
        "        R = 0.0\n",
        "        G = (wavelength_nm - 440) / (490 - 440)\n",
        "        B = 1.0\n",
        "    elif wavelength_nm < 510:\n",
        "        R = 0.0\n",
        "        G = 1.0\n",
        "        B = -(wavelength_nm - 510) / (510 - 490)\n",
        "    elif wavelength_nm < 580:\n",
        "        R = (wavelength_nm - 510) / (580 - 510)\n",
        "        G = 1.0\n",
        "        B = 0.0\n",
        "    elif wavelength_nm < 645:\n",
        "        R = 1.0\n",
        "        G = -(wavelength_nm - 645) / (645 - 580)\n",
        "        B = 0.0\n",
        "    else:\n",
        "        R = 1.0\n",
        "        G = 0.0\n",
        "        B = 0.0\n",
        "\n",
        "    if wavelength_nm < 420:\n",
        "        factor = 0.3 + 0.7 * (wavelength_nm - 380) / (420 - 380)\n",
        "    elif wavelength_nm <= 700:\n",
        "        factor = 1.0\n",
        "    else:\n",
        "        factor = 0.3 + 0.7 * (780 - wavelength_nm) / (780 - 700)\n",
        "\n",
        "    def adjust(c):\n",
        "        if c == 0.0:\n",
        "            return 0\n",
        "        return int(round(255 * ((c * factor) ** gamma)))\n",
        "\n",
        "    return (adjust(R), adjust(G), adjust(B))\n",
        "\n",
        "\n",
        "def rgb_to_hsv_normalized(r, g, b):\n",
        "    return colorsys.rgb_to_hsv(r / 255, g / 255, b / 255)\n",
        "\n",
        "def hsv_to_rgb_int(h, s, v):\n",
        "    r, g, b = colorsys.hsv_to_rgb(h, s, v)\n",
        "    return int(r * 255), int(g * 255), int(b * 255)\n",
        "\n",
        "def find_closest_wavelength(target_rgb):\n",
        "    min_dist = float('inf')\n",
        "    best_wavelength = None\n",
        "    for wl in range(380, 781):\n",
        "        rgb = wavelength_to_rgb(wl)\n",
        "        dist = np.linalg.norm(np.array(rgb) - np.array(target_rgb))\n",
        "        if dist < min_dist:\n",
        "            min_dist = dist\n",
        "            best_wavelength = wl\n",
        "    return best_wavelength\n",
        "\n",
        "def complementary_wavelength(wavelength_nm):\n",
        "    base_rgb = wavelength_to_rgb(wavelength_nm)\n",
        "    hsv = rgb_to_hsv_normalized(*base_rgb)\n",
        "    comp_hue = (hsv[0] + 0.5) % 1.0  # 180 degrees shift\n",
        "    comp_rgb = hsv_to_rgb_int(comp_hue, hsv[1], hsv[2])\n",
        "    comp_wavelength = find_closest_wavelength(comp_rgb)\n",
        "    return {\n",
        "        \"input_wavelength\": wavelength_nm,\n",
        "        \"input_rgb\": base_rgb,\n",
        "        \"complementary_rgb\": comp_rgb,\n",
        "        \"approx_complementary_wavelength\": comp_wavelength\n",
        "    }\n",
        "result = complementary_wavelength(wavelength_nm)\n",
        "print(result)"
      ]
    },
    {
      "cell_type": "markdown",
      "source": [
        "Now let's visualize it"
      ],
      "metadata": {
        "id": "z2qT4tP3m3f1"
      }
    },
    {
      "cell_type": "code",
      "execution_count": null,
      "metadata": {
        "colab": {
          "base_uri": "https://localhost:8080/",
          "height": 224
        },
        "id": "cprp8Iyltx58",
        "outputId": "7fa641dc-4609-447e-8002-5c9cadfa7f54"
      },
      "outputs": [
        {
          "output_type": "display_data",
          "data": {
            "text/plain": [
              "<Figure size 600x200 with 2 Axes>"
            ],
            "image/png": "[encoded data removed]"
          },
          "metadata": {}
        },
        {
          "output_type": "stream",
          "name": "stdout",
          "text": [
            "{'input_wavelength': 550, 'input_rgb': (163, 255, 0), 'complementary_rgb': (91, 0, 255), 'approx_complementary_wavelength': 423}\n"
          ]
        }
      ],
      "source": [
        "import colorsys\n",
        "import numpy as np\n",
        "\n",
        "wavelength_nm=550\n",
        "\n",
        "\n",
        "def wavelength_to_rgb(wavelength_nm, gamma=0.8):\n",
        "    if wavelength_nm < 380 or wavelength_nm > 780:\n",
        "        return (0, 0, 0)\n",
        "\n",
        "    if wavelength_nm < 440:\n",
        "        R = -(wavelength_nm - 440) / (440 - 380)\n",
        "        G = 0.0\n",
        "        B = 1.0\n",
        "    elif wavelength_nm < 490:\n",
        "        R = 0.0\n",
        "        G = (wavelength_nm - 440) / (490 - 440)\n",
        "        B = 1.0\n",
        "    elif wavelength_nm < 510:\n",
        "        R = 0.0\n",
        "        G = 1.0\n",
        "        B = -(wavelength_nm - 510) / (510 - 490)\n",
        "    elif wavelength_nm < 580:\n",
        "        R = (wavelength_nm - 510) / (580 - 510)\n",
        "        G = 1.0\n",
        "        B = 0.0\n",
        "    elif wavelength_nm < 645:\n",
        "        R = 1.0\n",
        "        G = -(wavelength_nm - 645) / (645 - 580)\n",
        "        B = 0.0\n",
        "    else:\n",
        "        R = 1.0\n",
        "        G = 0.0\n",
        "        B = 0.0\n",
        "\n",
        "    if wavelength_nm < 420:\n",
        "        factor = 0.3 + 0.7 * (wavelength_nm - 380) / (420 - 380)\n",
        "    elif wavelength_nm <= 700:\n",
        "        factor = 1.0\n",
        "    else:\n",
        "        factor = 0.3 + 0.7 * (780 - wavelength_nm) / (780 - 700)\n",
        "\n",
        "    def adjust(c):\n",
        "        if c == 0.0:\n",
        "            return 0\n",
        "        return int(round(255 * ((c * factor) ** gamma)))\n",
        "\n",
        "    return (adjust(R), adjust(G), adjust(B))\n",
        "\n",
        "\n",
        "def rgb_to_hsv_normalized(r, g, b):\n",
        "    return colorsys.rgb_to_hsv(r / 255, g / 255, b / 255)\n",
        "\n",
        "def hsv_to_rgb_int(h, s, v):\n",
        "    r, g, b = colorsys.hsv_to_rgb(h, s, v)\n",
        "    return int(r * 255), int(g * 255), int(b * 255)\n",
        "\n",
        "def find_closest_wavelength(target_rgb):\n",
        "    min_dist = float('inf')\n",
        "    best_wavelength = None\n",
        "    for wl in range(380, 781):\n",
        "        rgb = wavelength_to_rgb(wl)\n",
        "        dist = np.linalg.norm(np.array(rgb) - np.array(target_rgb))\n",
        "        if dist < min_dist:\n",
        "            min_dist = dist\n",
        "            best_wavelength = wl\n",
        "    return best_wavelength\n",
        "\n",
        "def complementary_wavelength(wavelength_nm):\n",
        "    base_rgb = wavelength_to_rgb(wavelength_nm)\n",
        "    hsv = rgb_to_hsv_normalized(*base_rgb)\n",
        "    comp_hue = (hsv[0] + 0.5) % 1.0  # 180 degrees shift\n",
        "    comp_rgb = hsv_to_rgb_int(comp_hue, hsv[1], hsv[2])\n",
        "    comp_wavelength = find_closest_wavelength(comp_rgb)\n",
        "    # Plotting the original and complementary color\n",
        "    fig, ax = plt.subplots(1, 2, figsize=(6, 2))\n",
        "    ax[0].imshow([[np.array(base_rgb)/255]])\n",
        "    ax[0].set_title(f\"{wavelength_nm} nm\")\n",
        "    ax[0].axis(\"off\")\n",
        "\n",
        "    ax[1].imshow([[np.array(comp_rgb)/255]])\n",
        "    ax[1].set_title(f\"≈{comp_wavelength} nm\")\n",
        "    ax[1].axis(\"off\")\n",
        "\n",
        "    plt.tight_layout()\n",
        "    plt.show()\n",
        "    return {\n",
        "        \"input_wavelength\": wavelength_nm,\n",
        "        \"input_rgb\": base_rgb,\n",
        "        \"complementary_rgb\": comp_rgb,\n",
        "        \"approx_complementary_wavelength\": comp_wavelength\n",
        "    }\n",
        "result = complementary_wavelength(wavelength_nm)\n",
        "print(result)"
      ]
    },
    {
      "cell_type": "markdown",
      "metadata": {
        "id": "avw82sGjY066"
      },
      "source": []
    }
  ],
  "metadata": {
    "colab": {
      "provenance": [],
      "include_colab_link": true
    },
    "kernelspec": {
      "display_name": "Python 3",
      "name": "python3"
    },
    "language_info": {
      "name": "python"
    }
  },
  "nbformat": 4,
  "nbformat_minor": 0
}